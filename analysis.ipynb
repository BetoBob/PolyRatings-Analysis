{
 "cells": [
  {
   "cell_type": "markdown",
   "metadata": {},
   "source": [
    "# II. Analysis"
   ]
  },
  {
   "cell_type": "markdown",
   "metadata": {},
   "source": [
    "### General Analysis"
   ]
  },
  {
   "cell_type": "code",
   "execution_count": 1,
   "metadata": {},
   "outputs": [],
   "source": [
    "import pandas as pd\n",
    "\n",
    "reviews_uc = pd.read_csv(\"polyratings_reviews.csv\")\n",
    "reviews = reviews_uc.drop(reviews_uc[[\"Unnamed: 0\", \"Unnamed: 0.1\"]], axis = 1) # proper indexing"
   ]
  },
  {
   "cell_type": "code",
   "execution_count": 20,
   "metadata": {},
   "outputs": [
    {
     "data": {
      "text/html": [
       "<div>\n",
       "<style scoped>\n",
       "    .dataframe tbody tr th:only-of-type {\n",
       "        vertical-align: middle;\n",
       "    }\n",
       "\n",
       "    .dataframe tbody tr th {\n",
       "        vertical-align: top;\n",
       "    }\n",
       "\n",
       "    .dataframe thead th {\n",
       "        text-align: right;\n",
       "    }\n",
       "</style>\n",
       "<table border=\"1\" class=\"dataframe\">\n",
       "  <thead>\n",
       "    <tr style=\"text-align: right;\">\n",
       "      <th></th>\n",
       "      <th>class</th>\n",
       "      <th>class_abrv</th>\n",
       "      <th>class_number</th>\n",
       "      <th>review_content</th>\n",
       "      <th>review_month</th>\n",
       "      <th>review_year</th>\n",
       "      <th>student_gpa</th>\n",
       "      <th>student_grade</th>\n",
       "      <th>student_major</th>\n",
       "      <th>student_rank</th>\n",
       "      <th>student_standing</th>\n",
       "      <th>teacher_difficulties</th>\n",
       "      <th>teacher_field</th>\n",
       "      <th>teacher_name</th>\n",
       "      <th>teacher_presentaion</th>\n",
       "      <th>teacher_rating</th>\n",
       "    </tr>\n",
       "  </thead>\n",
       "  <tbody>\n",
       "    <tr>\n",
       "      <th>0</th>\n",
       "      <td>CPE 215</td>\n",
       "      <td>CPE</td>\n",
       "      <td>215</td>\n",
       "      <td>he knows what he's talking about, he knows how...</td>\n",
       "      <td>Aug</td>\n",
       "      <td>2001</td>\n",
       "      <td>4.0</td>\n",
       "      <td>A</td>\n",
       "      <td>Required (Major)</td>\n",
       "      <td>1</td>\n",
       "      <td>Sophomore</td>\n",
       "      <td>3.64</td>\n",
       "      <td>Computer Science</td>\n",
       "      <td>Connely, John</td>\n",
       "      <td>3.45</td>\n",
       "      <td>3.41</td>\n",
       "    </tr>\n",
       "    <tr>\n",
       "      <th>1</th>\n",
       "      <td>CPE 215</td>\n",
       "      <td>CPE</td>\n",
       "      <td>215</td>\n",
       "      <td>In two years being here at Cal Poly, Dr Connel...</td>\n",
       "      <td>Aug</td>\n",
       "      <td>2001</td>\n",
       "      <td>4.0</td>\n",
       "      <td>A</td>\n",
       "      <td>Required (Major)</td>\n",
       "      <td>1</td>\n",
       "      <td>Sophomore</td>\n",
       "      <td>3.64</td>\n",
       "      <td>Computer Science</td>\n",
       "      <td>Connely, John</td>\n",
       "      <td>3.45</td>\n",
       "      <td>3.41</td>\n",
       "    </tr>\n",
       "    <tr>\n",
       "      <th>2</th>\n",
       "      <td>CPE 215</td>\n",
       "      <td>CPE</td>\n",
       "      <td>215</td>\n",
       "      <td>Connely's an excellent professor.  I've had hi...</td>\n",
       "      <td>Aug</td>\n",
       "      <td>2001</td>\n",
       "      <td>3.0</td>\n",
       "      <td>B</td>\n",
       "      <td>Required (Major)</td>\n",
       "      <td>2</td>\n",
       "      <td>Junior</td>\n",
       "      <td>3.64</td>\n",
       "      <td>Computer Science</td>\n",
       "      <td>Connely, John</td>\n",
       "      <td>3.45</td>\n",
       "      <td>3.41</td>\n",
       "    </tr>\n",
       "    <tr>\n",
       "      <th>3</th>\n",
       "      <td>CPE 215</td>\n",
       "      <td>CPE</td>\n",
       "      <td>215</td>\n",
       "      <td>This guy knows what he is talking about, and h...</td>\n",
       "      <td>Aug</td>\n",
       "      <td>2001</td>\n",
       "      <td>4.0</td>\n",
       "      <td>A</td>\n",
       "      <td>Required (Major)</td>\n",
       "      <td>1</td>\n",
       "      <td>Sophomore</td>\n",
       "      <td>3.64</td>\n",
       "      <td>Computer Science</td>\n",
       "      <td>Connely, John</td>\n",
       "      <td>3.45</td>\n",
       "      <td>3.41</td>\n",
       "    </tr>\n",
       "    <tr>\n",
       "      <th>4</th>\n",
       "      <td>CPE 215</td>\n",
       "      <td>CPE</td>\n",
       "      <td>215</td>\n",
       "      <td>I could go on and on about how great of a teac...</td>\n",
       "      <td>Dec</td>\n",
       "      <td>1999</td>\n",
       "      <td>4.0</td>\n",
       "      <td>A</td>\n",
       "      <td>Required (Support)</td>\n",
       "      <td>2</td>\n",
       "      <td>Junior</td>\n",
       "      <td>3.64</td>\n",
       "      <td>Computer Science</td>\n",
       "      <td>Connely, John</td>\n",
       "      <td>3.45</td>\n",
       "      <td>3.41</td>\n",
       "    </tr>\n",
       "  </tbody>\n",
       "</table>\n",
       "</div>"
      ],
      "text/plain": [
       "     class class_abrv  class_number  \\\n",
       "0  CPE 215        CPE           215   \n",
       "1  CPE 215        CPE           215   \n",
       "2  CPE 215        CPE           215   \n",
       "3  CPE 215        CPE           215   \n",
       "4  CPE 215        CPE           215   \n",
       "\n",
       "                                      review_content review_month  \\\n",
       "0  he knows what he's talking about, he knows how...          Aug   \n",
       "1  In two years being here at Cal Poly, Dr Connel...          Aug   \n",
       "2  Connely's an excellent professor.  I've had hi...          Aug   \n",
       "3  This guy knows what he is talking about, and h...          Aug   \n",
       "4  I could go on and on about how great of a teac...          Dec   \n",
       "\n",
       "   review_year  student_gpa student_grade       student_major  student_rank  \\\n",
       "0         2001          4.0             A    Required (Major)             1   \n",
       "1         2001          4.0             A    Required (Major)             1   \n",
       "2         2001          3.0             B    Required (Major)             2   \n",
       "3         2001          4.0             A    Required (Major)             1   \n",
       "4         1999          4.0             A  Required (Support)             2   \n",
       "\n",
       "  student_standing  teacher_difficulties       teacher_field   teacher_name  \\\n",
       "0        Sophomore                  3.64    Computer Science  Connely, John   \n",
       "1        Sophomore                  3.64    Computer Science  Connely, John   \n",
       "2           Junior                  3.64    Computer Science  Connely, John   \n",
       "3        Sophomore                  3.64    Computer Science  Connely, John   \n",
       "4           Junior                  3.64    Computer Science  Connely, John   \n",
       "\n",
       "   teacher_presentaion  teacher_rating  \n",
       "0                 3.45            3.41  \n",
       "1                 3.45            3.41  \n",
       "2                 3.45            3.41  \n",
       "3                 3.45            3.41  \n",
       "4                 3.45            3.41  "
      ]
     },
     "execution_count": 20,
     "metadata": {},
     "output_type": "execute_result"
    }
   ],
   "source": [
    "reviews.head()"
   ]
  },
  {
   "cell_type": "markdown",
   "metadata": {},
   "source": [
    "### Activity Over Time"
   ]
  },
  {
   "cell_type": "code",
   "execution_count": 144,
   "metadata": {},
   "outputs": [],
   "source": [
    "# converting time into an integer to use as a graph index\n",
    "month_map = { \"Jan\": 0, \"Feb\": 1, \"Mar\": 2, \"Apr\": 3, \n",
    "             \"May\": 4, \"Jun\": 5, \"Jul\": 6, \"Aug\": 7, \n",
    "             \"Sep\": 8, \"Oct\": 9, \"Nov\": 10, \"Dec\": 11 }\n",
    "\n",
    "# the site was created in 1999 (the beginning of our graph\n",
    "reviews[\"time_int\"] = reviews[\"review_year\"].apply(float) + (reviews[\"review_month\"].apply(month_map.get) / 12)"
   ]
  },
  {
   "cell_type": "code",
   "execution_count": 145,
   "metadata": {},
   "outputs": [
    {
     "data": {
      "text/html": [
       "<div>\n",
       "<style scoped>\n",
       "    .dataframe tbody tr th:only-of-type {\n",
       "        vertical-align: middle;\n",
       "    }\n",
       "\n",
       "    .dataframe tbody tr th {\n",
       "        vertical-align: top;\n",
       "    }\n",
       "\n",
       "    .dataframe thead th {\n",
       "        text-align: right;\n",
       "    }\n",
       "</style>\n",
       "<table border=\"1\" class=\"dataframe\">\n",
       "  <thead>\n",
       "    <tr style=\"text-align: right;\">\n",
       "      <th></th>\n",
       "      <th>review_year</th>\n",
       "      <th>review_month</th>\n",
       "      <th>time_int</th>\n",
       "    </tr>\n",
       "  </thead>\n",
       "  <tbody>\n",
       "    <tr>\n",
       "      <th>0</th>\n",
       "      <td>2001</td>\n",
       "      <td>Aug</td>\n",
       "      <td>2001.583333</td>\n",
       "    </tr>\n",
       "    <tr>\n",
       "      <th>1</th>\n",
       "      <td>2001</td>\n",
       "      <td>Aug</td>\n",
       "      <td>2001.583333</td>\n",
       "    </tr>\n",
       "    <tr>\n",
       "      <th>2</th>\n",
       "      <td>2001</td>\n",
       "      <td>Aug</td>\n",
       "      <td>2001.583333</td>\n",
       "    </tr>\n",
       "    <tr>\n",
       "      <th>3</th>\n",
       "      <td>2001</td>\n",
       "      <td>Aug</td>\n",
       "      <td>2001.583333</td>\n",
       "    </tr>\n",
       "    <tr>\n",
       "      <th>4</th>\n",
       "      <td>1999</td>\n",
       "      <td>Dec</td>\n",
       "      <td>1999.916667</td>\n",
       "    </tr>\n",
       "    <tr>\n",
       "      <th>5</th>\n",
       "      <td>2000</td>\n",
       "      <td>Feb</td>\n",
       "      <td>2000.083333</td>\n",
       "    </tr>\n",
       "    <tr>\n",
       "      <th>6</th>\n",
       "      <td>2001</td>\n",
       "      <td>Feb</td>\n",
       "      <td>2001.083333</td>\n",
       "    </tr>\n",
       "    <tr>\n",
       "      <th>7</th>\n",
       "      <td>2002</td>\n",
       "      <td>Dec</td>\n",
       "      <td>2002.916667</td>\n",
       "    </tr>\n",
       "    <tr>\n",
       "      <th>8</th>\n",
       "      <td>2003</td>\n",
       "      <td>Jan</td>\n",
       "      <td>2003.000000</td>\n",
       "    </tr>\n",
       "    <tr>\n",
       "      <th>9</th>\n",
       "      <td>2003</td>\n",
       "      <td>Mar</td>\n",
       "      <td>2003.166667</td>\n",
       "    </tr>\n",
       "  </tbody>\n",
       "</table>\n",
       "</div>"
      ],
      "text/plain": [
       "   review_year review_month     time_int\n",
       "0         2001          Aug  2001.583333\n",
       "1         2001          Aug  2001.583333\n",
       "2         2001          Aug  2001.583333\n",
       "3         2001          Aug  2001.583333\n",
       "4         1999          Dec  1999.916667\n",
       "5         2000          Feb  2000.083333\n",
       "6         2001          Feb  2001.083333\n",
       "7         2002          Dec  2002.916667\n",
       "8         2003          Jan  2003.000000\n",
       "9         2003          Mar  2003.166667"
      ]
     },
     "execution_count": 145,
     "metadata": {},
     "output_type": "execute_result"
    }
   ],
   "source": [
    "reviews[[\"review_year\", \"review_month\", \"time_int\"]].head(10)"
   ]
  },
  {
   "cell_type": "code",
   "execution_count": 219,
   "metadata": {},
   "outputs": [
    {
     "data": {
      "image/png": "[encoded data removed]",
      "text/plain": [
       "<Figure size 432x288 with 1 Axes>"
      ]
     },
     "metadata": {},
     "output_type": "display_data"
    }
   ],
   "source": [
    "%matplotlib inline\n",
    "import matplotlib.pyplot as plt\n",
    "import numpy as np\n",
    "\n",
    "plt.style.use(\"ggplot\")\n",
    "\n",
    "review_freq = reviews.time_int.value_counts()\n",
    "\n",
    "plt.scatter(x=list(review_freq.index), y = list(review_freq), s = np.pi * 3, c=\"g\")\n",
    "\n",
    "plt.xlabel(\"Years\", fontsize = 12)\n",
    "plt.ylabel(\"Number of Reviews\", fontsize = 12)\n",
    "plt.title(\"Polyratings Reviews Over Time\")\n",
    "\n",
    "plt.xticks(np.arange(1999, 2018, 2))\n",
    "\n",
    "plt.savefig(\"img/pr_usage.png\")"
   ]
  },
  {
   "cell_type": "code",
   "execution_count": 209,
   "metadata": {},
   "outputs": [],
   "source": [
    "# peak around November 2016? What's that about?\n",
    "\n",
    "nov2016 = reviews.loc[(reviews.review_year == 2016) & (reviews.review_month == \"Nov\")]"
   ]
  },
  {
   "cell_type": "code",
   "execution_count": 224,
   "metadata": {},
   "outputs": [
    {
     "data": {
      "image/png": "[encoded data removed]",
      "text/plain": [
       "<Figure size 432x288 with 1 Axes>"
      ]
     },
     "metadata": {},
     "output_type": "display_data"
    }
   ],
   "source": [
    "usage_by_year = reviews.review_year.value_counts()\n",
    "usage_by_year.sort_index().plot.bar(color = \"green\")\n",
    "\n",
    "plt.xlabel(\"Years\", fontsize = 12)\n",
    "plt.ylabel(\"Number of Reviews\", fontsize = 12)\n",
    "\n",
    "plt.title(\"Polyratings Reviews By Year\")\n",
    "\n",
    "plt.savefig(\"img/pr_usage_bar.png\")"
   ]
  },
  {
   "cell_type": "code",
   "execution_count": 6,
   "metadata": {},
   "outputs": [
    {
     "data": {
      "text/plain": [
       "Dec    136\n",
       "Jun    101\n",
       "Nov     97\n",
       "Aug     60\n",
       "Oct     56\n",
       "Jul     54\n",
       "Sep     47\n",
       "Name: review_month, dtype: int64"
      ]
     },
     "execution_count": 6,
     "metadata": {},
     "output_type": "execute_result"
    }
   ],
   "source": [
    "reviews[reviews[\"review_year\"] == 1999].review_month.value_counts()"
   ]
  },
  {
   "cell_type": "markdown",
   "metadata": {},
   "source": [
    "### Demographics of PolyRatings"
   ]
  },
  {
   "cell_type": "code",
   "execution_count": null,
   "metadata": {},
   "outputs": [],
   "source": [
    "fig, axes = plt.subplots(3, 2, figsize=(12, 8), sharex=True, sharey=True)\n",
    "\n",
    "for ax, bldg_type in zip(axes.flatten(), housing[\"Bldg Type\"].unique()):\n",
    "    housing_type = housing[housing[\"Bldg Type\"] == bldg_type]\n",
    "    #housing_type.plot.scatter(x=\"Gr Liv Area\", y=\"SalePrice\", ax=ax)\n",
    "    #ax.set_title(bldg_type)\n",
    "    ax.set_title(college)"
   ]
  }
 ],
 "metadata": {
  "kernelspec": {
   "display_name": "Python 3",
   "language": "python",
   "name": "python3"
  },
  "language_info": {
   "codemirror_mode": {
    "name": "ipython",
    "version": 3
   },
   "file_extension": ".py",
   "mimetype": "text/x-python",
   "name": "python",
   "nbconvert_exporter": "python",
   "pygments_lexer": "ipython3",
   "version": "3.6.5"
  }
 },
 "nbformat": 4,
 "nbformat_minor": 2
}
