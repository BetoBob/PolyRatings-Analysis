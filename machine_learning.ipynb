{
 "cells": [
  {
   "cell_type": "markdown",
   "metadata": {},
   "source": [
    "# Machine Learning"
   ]
  },
  {
   "cell_type": "code",
   "execution_count": 1,
   "metadata": {},
   "outputs": [
    {
     "data": {
      "text/html": [
       "<div>\n",
       "<style scoped>\n",
       "    .dataframe tbody tr th:only-of-type {\n",
       "        vertical-align: middle;\n",
       "    }\n",
       "\n",
       "    .dataframe tbody tr th {\n",
       "        vertical-align: top;\n",
       "    }\n",
       "\n",
       "    .dataframe thead th {\n",
       "        text-align: right;\n",
       "    }\n",
       "</style>\n",
       "<table border=\"1\" class=\"dataframe\">\n",
       "  <thead>\n",
       "    <tr style=\"text-align: right;\">\n",
       "      <th></th>\n",
       "      <th>class</th>\n",
       "      <th>class_abrv</th>\n",
       "      <th>class_number</th>\n",
       "      <th>review_content</th>\n",
       "      <th>review_month</th>\n",
       "      <th>review_year</th>\n",
       "      <th>student_gpa</th>\n",
       "      <th>student_grade</th>\n",
       "      <th>student_major</th>\n",
       "      <th>student_rank</th>\n",
       "      <th>student_standing</th>\n",
       "      <th>teacher_difficulties</th>\n",
       "      <th>teacher_field</th>\n",
       "      <th>teacher_name</th>\n",
       "      <th>teacher_presentaion</th>\n",
       "      <th>teacher_rating</th>\n",
       "    </tr>\n",
       "  </thead>\n",
       "  <tbody>\n",
       "    <tr>\n",
       "      <th>0</th>\n",
       "      <td>CPE 215</td>\n",
       "      <td>CPE</td>\n",
       "      <td>215</td>\n",
       "      <td>he knows what he's talking about, he knows how...</td>\n",
       "      <td>Aug</td>\n",
       "      <td>2001</td>\n",
       "      <td>4.0</td>\n",
       "      <td>A</td>\n",
       "      <td>Required (Major)</td>\n",
       "      <td>1</td>\n",
       "      <td>Sophomore</td>\n",
       "      <td>3.64</td>\n",
       "      <td>Computer Science</td>\n",
       "      <td>Connely, John</td>\n",
       "      <td>3.45</td>\n",
       "      <td>3.41</td>\n",
       "    </tr>\n",
       "    <tr>\n",
       "      <th>1</th>\n",
       "      <td>CPE 215</td>\n",
       "      <td>CPE</td>\n",
       "      <td>215</td>\n",
       "      <td>In two years being here at Cal Poly, Dr Connel...</td>\n",
       "      <td>Aug</td>\n",
       "      <td>2001</td>\n",
       "      <td>4.0</td>\n",
       "      <td>A</td>\n",
       "      <td>Required (Major)</td>\n",
       "      <td>1</td>\n",
       "      <td>Sophomore</td>\n",
       "      <td>3.64</td>\n",
       "      <td>Computer Science</td>\n",
       "      <td>Connely, John</td>\n",
       "      <td>3.45</td>\n",
       "      <td>3.41</td>\n",
       "    </tr>\n",
       "    <tr>\n",
       "      <th>2</th>\n",
       "      <td>CPE 215</td>\n",
       "      <td>CPE</td>\n",
       "      <td>215</td>\n",
       "      <td>Connely's an excellent professor.  I've had hi...</td>\n",
       "      <td>Aug</td>\n",
       "      <td>2001</td>\n",
       "      <td>3.0</td>\n",
       "      <td>B</td>\n",
       "      <td>Required (Major)</td>\n",
       "      <td>2</td>\n",
       "      <td>Junior</td>\n",
       "      <td>3.64</td>\n",
       "      <td>Computer Science</td>\n",
       "      <td>Connely, John</td>\n",
       "      <td>3.45</td>\n",
       "      <td>3.41</td>\n",
       "    </tr>\n",
       "    <tr>\n",
       "      <th>3</th>\n",
       "      <td>CPE 215</td>\n",
       "      <td>CPE</td>\n",
       "      <td>215</td>\n",
       "      <td>This guy knows what he is talking about, and h...</td>\n",
       "      <td>Aug</td>\n",
       "      <td>2001</td>\n",
       "      <td>4.0</td>\n",
       "      <td>A</td>\n",
       "      <td>Required (Major)</td>\n",
       "      <td>1</td>\n",
       "      <td>Sophomore</td>\n",
       "      <td>3.64</td>\n",
       "      <td>Computer Science</td>\n",
       "      <td>Connely, John</td>\n",
       "      <td>3.45</td>\n",
       "      <td>3.41</td>\n",
       "    </tr>\n",
       "    <tr>\n",
       "      <th>4</th>\n",
       "      <td>CPE 215</td>\n",
       "      <td>CPE</td>\n",
       "      <td>215</td>\n",
       "      <td>I could go on and on about how great of a teac...</td>\n",
       "      <td>Dec</td>\n",
       "      <td>1999</td>\n",
       "      <td>4.0</td>\n",
       "      <td>A</td>\n",
       "      <td>Required (Support)</td>\n",
       "      <td>2</td>\n",
       "      <td>Junior</td>\n",
       "      <td>3.64</td>\n",
       "      <td>Computer Science</td>\n",
       "      <td>Connely, John</td>\n",
       "      <td>3.45</td>\n",
       "      <td>3.41</td>\n",
       "    </tr>\n",
       "  </tbody>\n",
       "</table>\n",
       "</div>"
      ],
      "text/plain": [
       "     class class_abrv  class_number  \\\n",
       "0  CPE 215        CPE           215   \n",
       "1  CPE 215        CPE           215   \n",
       "2  CPE 215        CPE           215   \n",
       "3  CPE 215        CPE           215   \n",
       "4  CPE 215        CPE           215   \n",
       "\n",
       "                                      review_content review_month  \\\n",
       "0  he knows what he's talking about, he knows how...          Aug   \n",
       "1  In two years being here at Cal Poly, Dr Connel...          Aug   \n",
       "2  Connely's an excellent professor.  I've had hi...          Aug   \n",
       "3  This guy knows what he is talking about, and h...          Aug   \n",
       "4  I could go on and on about how great of a teac...          Dec   \n",
       "\n",
       "   review_year  student_gpa student_grade       student_major  student_rank  \\\n",
       "0         2001          4.0             A    Required (Major)             1   \n",
       "1         2001          4.0             A    Required (Major)             1   \n",
       "2         2001          3.0             B    Required (Major)             2   \n",
       "3         2001          4.0             A    Required (Major)             1   \n",
       "4         1999          4.0             A  Required (Support)             2   \n",
       "\n",
       "  student_standing  teacher_difficulties       teacher_field   teacher_name  \\\n",
       "0        Sophomore                  3.64    Computer Science  Connely, John   \n",
       "1        Sophomore                  3.64    Computer Science  Connely, John   \n",
       "2           Junior                  3.64    Computer Science  Connely, John   \n",
       "3        Sophomore                  3.64    Computer Science  Connely, John   \n",
       "4           Junior                  3.64    Computer Science  Connely, John   \n",
       "\n",
       "   teacher_presentaion  teacher_rating  \n",
       "0                 3.45            3.41  \n",
       "1                 3.45            3.41  \n",
       "2                 3.45            3.41  \n",
       "3                 3.45            3.41  \n",
       "4                 3.45            3.41  "
      ]
     },
     "execution_count": 1,
     "metadata": {},
     "output_type": "execute_result"
    }
   ],
   "source": [
    "import pandas as pd\n",
    "\n",
    "reviews_uc = pd.read_csv(\"polyratings_reviews.csv\")\n",
    "reviews = reviews_uc.drop(reviews_uc[[\"Unnamed: 0\", \"Unnamed: 0.1\"]], axis = 1) # proper indexing\n",
    "reviews[\"review_content\"] = reviews[\"review_content\"].fillna(\"\") # accounts for empty reviews\n",
    "\n",
    "reviews.head()"
   ]
  },
  {
   "cell_type": "markdown",
   "metadata": {},
   "source": [
    "## K-Means Clustering of Reviews"
   ]
  },
  {
   "cell_type": "code",
   "execution_count": null,
   "metadata": {},
   "outputs": [],
   "source": [
    "test_set = reviews.sample(frac=.05)"
   ]
  },
  {
   "cell_type": "code",
   "execution_count": 3,
   "metadata": {},
   "outputs": [
    {
     "data": {
      "text/plain": [
       "3251"
      ]
     },
     "execution_count": 3,
     "metadata": {},
     "output_type": "execute_result"
    }
   ],
   "source": [
    "test_set.count()[0]"
   ]
  },
  {
   "cell_type": "markdown",
   "metadata": {},
   "source": [
    "Using a sample of the data collected because there's an unusually high variety of words. The sample size for our test data-set is twice as long as the Obama Tweets data-set."
   ]
  },
  {
   "cell_type": "code",
   "execution_count": 2,
   "metadata": {},
   "outputs": [],
   "source": [
    "from collections import Counter\n",
    "\n",
    "# creation of bag of words\n",
    "words = (\n",
    "    test_set.review_content\n",
    "    .str.lower()\n",
    "    .str.replace(\"[^\\w\\s]\", \"\") \n",
    "    .str.split()\n",
    "    .apply(Counter)\n",
    ")"
   ]
  },
  {
   "cell_type": "code",
   "execution_count": 3,
   "metadata": {},
   "outputs": [],
   "source": [
    "tf = pd.DataFrame(list(words)).fillna(0)"
   ]
  },
  {
   "cell_type": "code",
   "execution_count": 7,
   "metadata": {},
   "outputs": [
    {
     "data": {
      "text/plain": [
       "the      13885.0\n",
       "and      10317.0\n",
       "to        9234.0\n",
       "a         9168.0\n",
       "you       7171.0\n",
       "is        6658.0\n",
       "i         6273.0\n",
       "he        5779.0\n",
       "class     5470.0\n",
       "of        5428.0\n",
       "in        4305.0\n",
       "it        3219.0\n",
       "that      3214.0\n",
       "but       3130.0\n",
       "for       3109.0\n",
       "this      2867.0\n",
       "on        2858.0\n",
       "his       2751.0\n",
       "she       2688.0\n",
       "if        2649.0\n",
       "dtype: float64"
      ]
     },
     "execution_count": 7,
     "metadata": {},
     "output_type": "execute_result"
    }
   ],
   "source": [
    "tf_top = tf.sum().sort_values(ascending = False)[:20]\n",
    "tf_top"
   ]
  },
  {
   "cell_type": "code",
   "execution_count": 9,
   "metadata": {},
   "outputs": [
    {
     "data": {
      "image/png": "[encoded data removed]",
      "text/plain": [
       "<Figure size 432x288 with 1 Axes>"
      ]
     },
     "metadata": {},
     "output_type": "display_data"
    }
   ],
   "source": [
    "%matplotlib inline\n",
    "\n",
    "tf_top.plot.barh().set_title(\"TF Top 20 Words\")\n",
    "\n",
    "plt.xlabel(\"Number of Uses\", fontsize = 12)\n",
    "plt.ylabel(\"Words\", fontsize = 12)\n",
    "\n",
    "plt.savefig(\"img/TF_top.png\")"
   ]
  },
  {
   "cell_type": "code",
   "execution_count": 10,
   "metadata": {},
   "outputs": [],
   "source": [
    "# get tf_idf\n",
    "import numpy as np\n",
    "\n",
    "df = (tf > 0).sum(axis=0)\n",
    "idf = np.log(len(tf) / df)\n",
    "tf_idf = tf * idf"
   ]
  },
  {
   "cell_type": "code",
   "execution_count": 12,
   "metadata": {},
   "outputs": [
    {
     "data": {
      "text/plain": [
       "she     3712.339883\n",
       "he      3397.174669\n",
       "her     2734.050946\n",
       "i       2486.817306\n",
       "his     2425.901703\n",
       "you     2416.372530\n",
       "was     2333.511453\n",
       "that    2240.652849\n",
       "on      2182.217904\n",
       "it      2161.696308\n",
       "of      2117.195953\n",
       "this    2116.219826\n",
       "as      2071.480505\n",
       "are     2016.163654\n",
       "the     2014.250676\n",
       "for     2013.843333\n",
       "not     2008.478428\n",
       "in      1960.007331\n",
       "if      1841.856814\n",
       "to      1831.872496\n",
       "dtype: float64"
      ]
     },
     "execution_count": 12,
     "metadata": {},
     "output_type": "execute_result"
    }
   ],
   "source": [
    "tf_idf_top = tf_idf.sum().sort_values(ascending = False)[:20]\n",
    "tf_idf_top"
   ]
  },
  {
   "cell_type": "code",
   "execution_count": 13,
   "metadata": {},
   "outputs": [
    {
     "data": {
      "image/png": "[encoded data removed]",
      "text/plain": [
       "<Figure size 432x288 with 1 Axes>"
      ]
     },
     "metadata": {},
     "output_type": "display_data"
    }
   ],
   "source": [
    "%matplotlib inline\n",
    "\n",
    "tf_idf_top.plot.barh().set_title(\"TF IDF Top 20 Words\")\n",
    "\n",
    "plt.xlabel(\"TF IDF Score\", fontsize = 12)\n",
    "plt.ylabel(\"Words\", fontsize = 12)\n",
    "\n",
    "plt.savefig(\"img/TF_IDF_top.png\")"
   ]
  },
  {
   "cell_type": "code",
   "execution_count": 65,
   "metadata": {},
   "outputs": [
    {
     "data": {
      "text/plain": [
       "False    6947\n",
       "True     6349\n",
       "dtype: int64"
      ]
     },
     "execution_count": 65,
     "metadata": {},
     "output_type": "execute_result"
    }
   ],
   "source": [
    "(tf_idf.sum() > 10).value_counts()"
   ]
  },
  {
   "cell_type": "code",
   "execution_count": 66,
   "metadata": {},
   "outputs": [],
   "source": [
    "# removes a lot of random words\n",
    "trunc_idf = tf[tf.columns[tf.sum() > 10]]"
   ]
  },
  {
   "cell_type": "code",
   "execution_count": 67,
   "metadata": {},
   "outputs": [],
   "source": [
    "from sklearn.cluster import KMeans\n",
    "\n",
    "# Make cluster from size n = 2 to n = 6\n",
    "\n",
    "for n in range(2, 7):\n",
    "    model = KMeans(n_clusters = n)\n",
    "    model.fit(trunc_idf)\n",
    "    clusters = model.labels_\n",
    "    test_set[\"model_\" + str(n)] = clusters       \n",
    "\n",
    "test_set.to_csv(\"kmeans_test_set.csv\")"
   ]
  },
  {
   "cell_type": "markdown",
   "metadata": {},
   "source": [
    "### Analysis of Models"
   ]
  },
  {
   "cell_type": "markdown",
   "metadata": {},
   "source": [
    "** Model 2 **"
   ]
  },
  {
   "cell_type": "code",
   "execution_count": 16,
   "metadata": {},
   "outputs": [
    {
     "data": {
      "image/png": "[encoded data removed]",
      "text/plain": [
       "<Figure size 432x288 with 1 Axes>"
      ]
     },
     "metadata": {},
     "output_type": "display_data"
    }
   ],
   "source": [
    "%matplotlib inline\n",
    "import pandas as pd\n",
    "import matplotlib.pyplot as plt\n",
    "\n",
    "test_set = pd.read_csv(\"kmeans_test_set.csv\")\n",
    "\n",
    "test_set[\"model_2\"].value_counts().plot.bar().set_title(\"Model 2\")\n",
    "\n",
    "plt.xlabel(\"Groups\", fontsize = 12)\n",
    "plt.ylabel(\"Number of Reviews\", fontsize = 12)\n",
    "plt.ylim(0, 2700)\n",
    "\n",
    "plt.savefig(\"img/model_2.png\")"
   ]
  },
  {
   "cell_type": "code",
   "execution_count": 20,
   "metadata": {},
   "outputs": [
    {
     "name": "stdout",
     "output_type": "stream",
     "text": [
      "Boycott this \n",
      "\n",
      "\n",
      "Just putting this under 482, but I've had him for quite a few classes here, and let me say, he is far and away the best teacher that the materials department has. Yes, he is precise, yes, he grades harshly, yes, he can be kind of a dick, but he is a good teacher that will actually teach you things you might need to know further on as an engineer. Take him, be prepared to put in a bit of effort, and you'll be a better engineer because of it.\n",
      "\n",
      "\n",
      "I looked up Winn on polyratings before spring quarter when I took him and got freaked out because he sounded like a creep, but I am so glad I took him because he is not--at all! Winn is a good teacher, and overall this was a great class. As long as you follow guidelines you can get an A. Just make sure you have structure and organization...and even if you have differing opinions he will still give you a good grade if you present your information clearly and reasonably. He wants to hear what students have to say, even if it is different than he would say himself. I am really glad I took this class, it is low key and does take alot of pressure off finals week.  \n",
      "\n",
      "\n",
      "Nice guy and quite funny actually. He is very straightforward with the quiz and tests as far as telling you what to expect. The grading scheme is such that 82-100 is an A, and then everything else is just shifted down. This class can be over your head if you're an M.E though. I would recommend something more practical especially as an elective. \n",
      "\n",
      "\n",
      "Medizade is without a doubt the worst teacher I\\'ve had at Cal Poly.  (He makes LoCascio look like a saint).  He lectured for several days on \\'sophisticated derivations\\' (the circumference of a hole in the ground.  pi * r^2 * depth.  I am not kidding).  He wrote a broken midterm - and took points from everybody\\'s grade because they didn\\'t overcome his idiocy the way he figured they should have after the test.  One day, he didn\\'t show up to class on 5 minutes e-mailed notice.  By far the best lecture period was when he got a guest speaker, if only he\\'d interrupted her less.\n",
      "\n",
      "\n"
     ]
    }
   ],
   "source": [
    "for review in test_set.loc[test_set[\"model_2\"] == 0, \"review_content\"].sample(5):\n",
    "    print(review)\n",
    "    print('\\n')"
   ]
  },
  {
   "cell_type": "markdown",
   "metadata": {},
   "source": [
    "Group 0:\n",
    "\n",
    "1. spam\n",
    "2. good, practical class\n",
    "3. good despite negative expectations\n",
    "4. not that practical, sort of difficult, ultimately good\n",
    "5. worst teacher taken\n",
    "\n",
    "ultimately positive"
   ]
  },
  {
   "cell_type": "code",
   "execution_count": 19,
   "metadata": {},
   "outputs": [
    {
     "name": "stdout",
     "output_type": "stream",
     "text": [
      "Okay so the work load is not much compared to some other professors. I was surprised how hard she graded us on our speeches considering that she wasn't a perfect speaker herself. I constantly got marked down for glancing at my notes (which we were allowed to have) and I asked my classmates if I really was reading off of my paper. My classmates told me that I did well and that I barely looked at my paper. Whenever Prof. Jackson is speaking she is either looking down at her paper, fiddling with something in her hand, or looking up at the ceiling. Not to mention the fact that this is a SPEAKING class and I did well on my speeches, I got a B on the written final which bumped my grade down. If it's a public speaking class, the WRITTEN final shouldn't be 30% of the grade. All of that aside, she was never at her office hours when I went so that was a minus. If you're looking for less work, take Lorraine, but know that you might not end up with the grade you think you deserved. \n",
      "\n",
      "\n",
      "This guy can teach you basics really well, but he sucks at teaching you the hard stuff. For example, in the beginning of the quarter he'll tell you how a keyboard connets to the computer. Duh, everybody knows that. And he'll tell you a mouse connects to it too. Then later on he'll briefly cover some hard ass shit and moves on. This class isn't impossible though so if you get stuck with him, DON'T GIVE UP. I failed every quiz we took(no midterms) and didn't do too well on the few homework assignments we got. He's picky on grading, I think. I ended up with a C- probably because of a fat ass curve. Pay close attention to what he's really asking for on the quizzes, that's how I messed up a lot. I had no clue what he was asking but when I asked him, it didn't make anything clearer. But overall, he's really nice and fairly approachable. If you ask him for help in lab, he'll help you and stay with you for awhile to make sure you're not doing something else that's wrong.\n",
      "\n",
      "\n",
      "Greg Wynn is not a professor for everyone.  He expects you to be on time, present, and ready to work during studio hours.  Otherwise, you might as well not even show up to class.  This is his view on teaching the course, and does an excellent job.  You are expected to be very independent, responsible, and hardworking.  If you're missing any of these traits, don't expect him to hold your hand and help you.  If you want help, ask him for it.  If you want a critique, seek it.  If you need approval or advice, talk to him and he will give you his undivided attention and expertise.  Greg approaches things a little differently than the other professors, but if you're willing to learn then you will definitely appreciate his style.  Greg is a very good teacher, and I recommend him to anybody that is independent and willing to work hard.\n",
      "\n",
      "\n",
      "In a few words, this class was a shit-show.  Information to take away from reading this post: Dr. Allen professes to be extremely organized, but is the complete opposite.  This is the only class I've ever had a midterm, a paper, a quiz, and 100+ pages' reading within the same week.  Took until the actual last day of the quarter to get our midterms back, and not even get back all of our assignments, including the paper we had to revise into a longer paper by the end of the quarter.  I feel all this disorganization is due to the fact she lives in Los Angeles -LOS ANGELES- and commutes here.  She is knowledgeable about the subject, but will refute and deny any perspective that is not her own; if you do not bark back her exact words, you will not get a good grade in this class.  \n",
      "\n",
      "\n",
      "man... this guy knows his stuff.  He is very open minded and full of energy.  I can tell he's very passionate about his profession as a politician/professor.  It is awesome to know that he was the mayor of SLO for 8 years and is now on the City Council.  Office Hours are interesting if you get a chance to go to them... you walk into a tiny room piled with books.  Everything (lecture notes, etc) he puts on his website.  So, don't get bogged down by copying every detail down from the notes.  In fact, if you just go to class, get the very-useful study guide that he hands out, and memorize the stuff on the study guide you'll do fantastic.  He wants you to know exactly what's going to be on the *multiple choice* exams.  The final was not cumulative... this class doesn't get much easier.  Have fun listening to him go on rants about policy... haha.  Also, if you have questions about the city or anything of that nature, he's very willing to tell you what he knows.\n",
      "\n",
      "\n"
     ]
    }
   ],
   "source": [
    "for review in test_set.loc[test_set[\"model_2\"] == 1, \"review_content\"].sample(5):\n",
    "    print(review)\n",
    "    print('\\n')"
   ]
  },
  {
   "cell_type": "markdown",
   "metadata": {},
   "source": [
    "Group 1:\n",
    "\n",
    "1. harsh grader, not available for office hours\n",
    "2. inbetween (kind of hard)\n",
    "3. good for hard workers\n",
    "4. negative review (a lot of work)\n",
    "5. teacher knows a lot of stuff, kind of hard\n",
    "\n",
    "generally more negative"
   ]
  },
  {
   "cell_type": "markdown",
   "metadata": {},
   "source": [
    "** Model 3 **"
   ]
  },
  {
   "cell_type": "code",
   "execution_count": 17,
   "metadata": {},
   "outputs": [
    {
     "data": {
      "image/png": "[encoded data removed]",
      "text/plain": [
       "<Figure size 432x288 with 1 Axes>"
      ]
     },
     "metadata": {},
     "output_type": "display_data"
    }
   ],
   "source": [
    "test_set[\"model_3\"].value_counts().sort_index().plot.bar().set_title(\"Model 3\")\n",
    "\n",
    "plt.xlabel(\"Groups\", fontsize = 12)\n",
    "plt.ylabel(\"Number of Reviews\", fontsize = 12)\n",
    "plt.ylim(0, 2700)\n",
    "\n",
    "plt.savefig(\"img/model_3.png\")"
   ]
  },
  {
   "cell_type": "code",
   "execution_count": 23,
   "metadata": {},
   "outputs": [
    {
     "name": "stdout",
     "output_type": "stream",
     "text": [
      "He explains the course materials clearly, his polylearn is organized, his chapter summaries are very helpful, the videos he post on polylearn are also helpful, his homework is good for learning and reviewing but at the same time it does not compromises the students time and his class is funny.I am a fan!\n",
      "\n",
      "\n",
      "Honestly Grandpa Mike is a homie. He definitely grades girls more easily, is candid about the fact that he's a Jesus loving conservative (I'm a Bay Area liberal) and has read more books in the last month than any of us have read in our lives. He's nutty and makes you email him (a plus for me but potentially a minus for others) and the good thing for me was he didn't set a minimum length for any speeches, just a maximum, and general suggestion. Earning his respect was a good feeling. \n",
      "\n",
      "\n",
      "Highly recommended fun class (with work, though)!  If you're interested in reading and writing short stories, you will learn a lot.  I'm an OK writer, but I learned so much about short stories.  This class changed the way I read ad understand short stories.  It was great to also get lots of feedback from other students.  The class is run like a workshop.  Better not be shy!  Prof. Delaure always gave great comments in a respectful but funny way--we got some good laughs.  If possible, I would take him again.  One draw back: many, many readings.  Easy readings, but lots of them....\n",
      "\n",
      "\n",
      "Classroom participation was an unnecessarily large component of the grade (30%).  She waxes on about how she values intelligent class discussion, and quality over quantity, but at the end of the quarter, the people with the highest participation grades were just the ones who didn't have anything of value to say, but liked the sound of their own voice and talked a lot.\n",
      "\n",
      "\n",
      "This is where the shit hits the fan. If you manage to find time to sleep, you will wake in the night, terrorized by null pointers. Your roommates will ask you what a \"fucking segfault\" is. This is the roughest class I have ever taken. If you're not religious, pick one and start praying; you need all the help you can get.\n",
      "\n",
      "\n"
     ]
    }
   ],
   "source": [
    "for review in test_set.loc[test_set[\"model_3\"] == 0, \"review_content\"].sample(5):\n",
    "    print(review)\n",
    "    print('\\n')"
   ]
  },
  {
   "cell_type": "markdown",
   "metadata": {},
   "source": [
    "Group 0:\n",
    "\n",
    "1. good, well organized\n",
    "2. good\n",
    "3. a lot of readings, but good class\n",
    "4. kind of inbetween\n",
    "5. difficult, very negative review\n",
    "\n",
    "Summary: Pretty Good"
   ]
  },
  {
   "cell_type": "code",
   "execution_count": 30,
   "metadata": {},
   "outputs": [
    {
     "name": "stdout",
     "output_type": "stream",
     "text": [
      "This class is your average GE history class. Dr. Hall spends every class period lecturing off power point slides. At times the class is mildly interesting, but on other days the material can be quite dry. He doesn't follow a textbook, which means you learn his, somewhat subjective version of history. With that said, I know a lot more about US history than I did prior to the class. In this class, your grade is made up of: 3 multiple choice exams (75Pts each), a noncumulative final (125pts) and an optional write up (50pts). In my opinion, the exams are fairly straightforward and easy. However, Dr. Hall likes to throw in about ~10 subjective/ambiguous or poorly phrased questions on each exam. Luckily, each exam has extra credit points and the 3rd exam is take home! For the final, there is a large essay portion as well as a multiple choice portion. The final is now CLOSED notes, but Dr. Hall prepares you well for the essay portion! The optional write-up will expand your course total from 350 to 400 points. I only recommend doing the write up (you go to two museum and answer 12 long questions about the museums) if you are on the borderline of getting a better grade. The write-up bumped my overall grade percentage up ~2%, which brought me from an A- to a solid. SIDE NOTE: Dr. Hall randomly decided week 9 that our final for the class would be during week 10 (not finals week)--so be cognizant of that. TIPS FOR GETTING A GOOD GRADE: go to class and take notes on what he says (the power points alone do NOT have a sufficient amount of information on the them), allot ~3 days to do the readings and to study for each exam,  review your notes with a classmate (or create a google doc), and sit toward the front of the class because Dr. Hall talks very quietly. \n",
      "\n",
      "\n",
      "I took ANT 360 to fill a GE and as an adviser approved elective.  It was a snap decision to take this class and it was one of the best decisions I have ever made.  I LOVE Professor Lewis and I absolutely loved this class.  I was initially skeptical because on the first day we were told that this class was not going to be easy and we would have to work hard.  Not quite something you want to hear on the first day.  But I am so glad I stuck it out because this ended up being one of my favorite classes at Cal Poly.It is by no means an easy class.  There are two assigned books and expect to do a lot of reading in a short amount of time.  There are random reading quizzes, almost weekly when the reading is due, so do the reading!  It will also help you so much for the two midterms, which correspond to the two books.  The midterms are essay tests that usually take the whole class period.  If you understand the reading, you will be fine.  The reading is also the base for lectures, so go to class!  I understood the reading sooooo much better when Professor Lewis explained it in class.Overall I learned a lot and found the books to be very interesting.  Professor Lewis is an amazing professor who really understands what she's talking about and is truly passionate about anthropology and helping her students to learn.  She expects you to work hard for your grade, but is extremely reasonable and fair.  I would take this class again in a heartbeat!\n",
      "\n",
      "\n",
      "Keller is probably the best dynamics teacher out there.  yes, there was a lot of homework, way to much even for dynamics.  i spent probably a good 15 hours  a week on just the homework.  dynamics is a tough course, but that kind of homework really helped me understand the material, i ended up getting a high A on the common final.  the lectures are a little slow, and shes not real quick on the draw with the problems, but who is?  she probably relies on the solution manual a little too much, but i liked that.  i mean think about it, 90% of the teachers at this school have been here for more that 50 years and have never been in the industry that they teach about and so know nothing outside of the textbook.  Keller worked for several years for boeing and (i think) rocketdyne.  Shes a real person, and so cant do all the problems right away in her head, she thinks them through.  in my experience, the only people that can do the problems in their heads, are the ones that have been teaching this course forever and so know all the problems.  she has plenty of office hours and thats where i learned the most.  shes very helpful and  its easy to get very high grades, just do the homework.  the final is only worth 20% so it wont make or break you.  peace.\n",
      "\n",
      "\n",
      "The ratings for Ms. Andes should be wayyyy higher than what they are. She's a great professor and is passionate about her material (which is conveyed plainly in the most direct way possible). She's NOT boring and tells the off color joke so if you're easily offended, don't take this class. She's like a feminist but NOT a SJW... so take that as you will. Most importantly, she's also incredibly precise in grading so unless you're going to come to EVERY class (which is pretty much expected if you want to get a decent grade), and have passable on-the-fly essay writing skills, then you likely won't do well (these should be a given at this point, kids). She destroyed my first midterm with the word \"vague\" all over, so use a lot of phrase-mirroring from her lectures but also know how to expand on it. She's very loud and cold calls students so don't expect to sit in the back and not be engaged. Laura locks on to any and all. Avoiding a question is blood in the water.The people calling her a cunt or whatever are way out of line. Clearly they're idiots who went in wanting all GE teachers to s their d. She's not a bitch or a \"bad\" teacher by ANY stretch of the imagination. The course material sucks, but anyone who's blasting her character is off-base, so don't worry if you have to take her. Okay--so it still doesn't sound like a great class or professor. She's not for everyone. She was kind of a rude awakening for my babied little GE grades. If you're used to pulling your dick in class and then catching up on your own, DON'T take this class! On the real--you will fail. If you take good notes, then reading the assigned books and studying beyond notes will be minimal, and therefore have a small workload beyond class. There are 3 midterms requiring multiple short-essays, a paper which is like 8-pages (and slightly difficult tbh) and the final. No busy work. In summary:If you don't study or try (not hatin), you won't do well. This is a challenging GE. Abandon all hope, ye who want an easy A. For those go to class and take diligent notes and then actually study for the midterms, then she's a very attentive and entertaining professor. Laura keeps it real and made a shitty/confusing GE/material fairly easy to swallow. I learned a lot (and isn't that the goal~*~*~) which is more than I can say for most GEs I've taken. Would I take it again? Fuck no--Descartes is retarded. But Laura is a professor I would have again, no question.\n",
      "\n",
      "\n",
      "I started out the quarter taking 141 from Choboter, and I quickly realized that he was not a good prof at all. In addition to the textbook, he has you read a book that's interesting, but doesn't have much to do with calculus, and then he doesn't really discuss the book in class much. Then he has you do silly conceptual assignments that don't really help much.  More importantly, though, he tries to make his class more of an \"active learning\" atmosphere and ruins it in doing so. He lectures for a maximum of 15 minutes and then hands everyone a worksheet and basically says \"here, figure this out.\" Then the students pair up and attempt to work through the problems he's handed out. He is willing to answer questions, but it's really hard to do the problems when you've only had 15 min of lecture about them. Then later, when you try to work on the homework, it's hard because you didn't understand what was gone over in class very well. This lecture format might work well for an easier class, but not for calc. I decided to transfer from Choboter's section to a prof named Rawlings. *Rawlings is the man.* You can go to his page and read my review if you're interested.  I was in a math workshop with some of Choboter's students, and they were definitely struggling to understand the material.  Save yourself a lot of trouble and *do not take Choboter.*\n",
      "\n",
      "\n"
     ]
    }
   ],
   "source": [
    "for review in test_set.loc[test_set[\"model_3\"] == 1, \"review_content\"].sample(5):\n",
    "    print(review)\n",
    "    print('\\n')"
   ]
  },
  {
   "cell_type": "markdown",
   "metadata": {},
   "source": [
    "Group 1:\n",
    "\n",
    "1. kind of indifferent; typical GE\n",
    "2. difficult, but good teacher\n",
    "3. great teacher for difficult class\n",
    "4. praises the class, but explicit language and a bit tactless\n",
    "5. negative review (but not \n",
    "\n",
    "a bit more negative; inconclusive"
   ]
  },
  {
   "cell_type": "code",
   "execution_count": 32,
   "metadata": {},
   "outputs": [
    {
     "name": "stdout",
     "output_type": "stream",
     "text": [
      "This class was an easy A. Two exams which are both take home and one project presentation that we were allowed to pick any aquaculture related  topic. He took attendance most days when people stopped showing up to class, but I'm not sure if he even used them for points. He is very unorganized, but just make sure you stay on top of things like your grade and you'll do great. The class is pretty boring but its a good/easy GE Area F. First half of the quarter is basically lecture and education videos. Second half of quarter is purely project presentations. He's just a sweet old Hawaiian man who brought us salmon toward the end of the quarter. He also offered extra credit if you really need it! \n",
      "\n",
      "\n",
      "Really nice lady but not a great professor.  Has difficulty presenting the material and gets lost on the board sometimes.  You won't be screwed if you get her but you should know that it will be a lot of work on your part to do well.  Do all of the reading before lecture because it will clarify her lectures and help you catch her mistakes.  She is rather disorganized.  Go to her office hours b/c she's eager to help.  Be prepared for lab because there will come a point when she won't answer your questions...at all.  This is her method of teaching you to \"think for yourself.\"  She gives about 5 quizzes and 3 midterms.  Doing the homework helps but you'll still be lost unless you go to office hours.  Good luck.  She is nice though...eh.\n",
      "\n",
      "\n",
      "She knows physics and is super nice.  I was waiting to see my prof for this quarter and she offered to answer my questions because he wasn't there.  If you're having trouble in class, go to office hours, cos she is the best there.  The tests aren't bad, they are usually pretty similar to her examples in lectures (which she actually does) and the simpler of the homework problems, and she doesn't make you memorize formulas.  She doesn't collect homework, but she gives weekly quizzes that are taken straight from the homework, so do it.  I've heard people rip on her for not giving partial credit, but they're dumb and are probably just mad because they didn't do well; she is really fair.  I'd take her now but she's not doing 132 this quarter.\n",
      "\n",
      "\n",
      "Behpour is going through a divorce this quarter...we hear about it all the time in class.  He gave us the tests he gave to his class last quarter, so we all thought we would be fine for the test.  I studied all the lecture notes and example problems, could do all the homework, and the practice test...and yet he made the test SO much harder.  This last exam didn't at all test my knowledge of the subject, so I was pissed.  When someone asked him in class why he made our test so much harder than the one from last quarter, he responded, \"Sorry guys, I'm going through a divorce right now.  I didn't mean to take it out on you.\"  So, he proceeded to make the next test even harder.  He curves the class, so I don't know what my grade will be yet.  Also...he doesn't collect any homework.  I think that's a bad thing, but some people like that.\n",
      "\n",
      "\n",
      "Too bad I looked to Polyratings before this class!  What a dissapointment Kato turned out to be!  Sure, he is fun in class, but I am hear to master calculus, not have fun... this teacher doesn't do both!  I would go to office hours and leave more confused then when I entered, and never ask him to explain anything in another way, because trust me - he can't.  He will make an attempt but will just go back to the original way he explained things, with some confusing transitions between explinations!  I only missed one class, did every homwork problem, and generally worked my ass off in this class, with absolutely no help from Kato whatsoever.  Sure, maybe I deserved the D+ I recieved in the class because I didn't master the material, but it is so frustrating to have a teacher tell you that what you are struggling with is easy!  HE DIDN'T TEACH... HE JUST WORKED OUT PROBLEMS ASSUMING THAT STUDENTS WOULD PICK UP HOW TO DO IT AND THAT WE WOULD THINK IT WAS AS EASY AS HE DID!  I really wish Dr. Kato would have had the same compassion for his students that he did for the starving children in India... plus, he was gone during the final AND we didn't recieve our grades until it was too late to crash another 241 class (given we wanted to re-take it).  All in all, this professor is the biggest dissapointment I have had at Cal Poly - and I have had some bad professors - too bad...\n",
      "\n",
      "\n"
     ]
    }
   ],
   "source": [
    "for review in test_set.loc[test_set[\"model_3\"] == 2, \"review_content\"].sample(5):\n",
    "    print(review)\n",
    "    print('\\n')"
   ]
  },
  {
   "cell_type": "markdown",
   "metadata": {},
   "source": [
    "Group 2:\n",
    "\n",
    "1. \n",
    "3. good review\n",
    "\n",
    "Inconclusive"
   ]
  },
  {
   "cell_type": "markdown",
   "metadata": {},
   "source": [
    "** Model 4 **"
   ]
  },
  {
   "cell_type": "code",
   "execution_count": 18,
   "metadata": {},
   "outputs": [
    {
     "data": {
      "image/png": "[encoded data removed]",
      "text/plain": [
       "<Figure size 432x288 with 1 Axes>"
      ]
     },
     "metadata": {},
     "output_type": "display_data"
    }
   ],
   "source": [
    "test_set[\"model_4\"].value_counts().sort_index().plot.bar().set_title(\"Model 4\")\n",
    "\n",
    "plt.xlabel(\"Groups\", fontsize = 12)\n",
    "plt.ylabel(\"Number of Reviews\", fontsize = 12)\n",
    "plt.ylim(0, 2700)\n",
    "\n",
    "plt.savefig(\"img/model_4.png\")"
   ]
  },
  {
   "cell_type": "code",
   "execution_count": 9,
   "metadata": {},
   "outputs": [
    {
     "name": "stdout",
     "output_type": "stream",
     "text": [
      "Professor Fraizer was a wonderful teacher! I had a really hard time grasping the concepts in the beginning and failed 2 of my quizzes and did poorly on my first exam. However, I went into office hours and did a lot of studying and was able to bump my grade up to a B! Fraizer's questions on quizzes and exams are relatively hard but after you get the hang of the structure you'll do fine. At the end of the quarter he gave a project worth 20% of your grade (making a blog about an endangered species) and just as long as you show effort and include what he specifies then you'll get all of the points. He's a really caring teacher and wants all of his students to succeed. He is also able to explain the material much better during his office hours. \n",
      "\n",
      "\n",
      "He really is not a good professor. However, he curves the class A LOT because no one understands the material. Go to the class to do your classwork problems and you will be fine. I got C+ on both midterms and a D- on the final and got a B+ in the class. That's how much he curves.    I liked it because I really didn't put enough work into studying for this class but walked off with a decent grade. I'd say it's worth taking him even if you have a bad rotation, but teach yourself and he will curve the class to give you a good grade (C+ is average apparently).\n",
      "\n",
      "\n",
      "She is so rude and such a bitch. She talks down on everyone and makes you feel stupid whenever you ask a question. She is not open to anyone else's opinion and what she says is always right. She seems so unhappy with her life and she takes it out on her students. I wouldn't even bother going to the class because she sucks so much. Just read the book and make sure to get the course mate that come with the book, which means you need to get the book new so that you can sign up for the semester long access to the website. Half of the midterm questions come directly from the graded quizzes that are online. This class is easy as long as you can stand her. SHES THE WORST!\n",
      "\n",
      "\n",
      "The quarter is not even finished yet and I am honestly done with this professor. I try to be as respectful to all my professors at any given time. However, this professor is quite the exception. This course is called professional responsibilities but I have yet to see an ounce of professionalism from this professor. At the very least, I believe a teacher should practice what they preach. To give an example, Dr. Turner has never shown up to class on time. He also makes false promises. It is okay to grade things late. I completely understand that professors have lives outside of school. However, one should never claim to have something done by a specific date and never live up to their words. Also, one time, he randomly shouted out during class, \"I am so racist!\". These things are just fractions of what is wrong with him and this class. I have lost all respect for him even as a person. If possible, I would advise everyone to avoid him as a professor. If there is one thing that he taught me, it would be that if a man like him can get a phd and tenure, I can do anything in life. \n",
      "\n",
      "\n",
      "I took HCS 329 with Dr. Wong (but it's not an option on PolyRatings as a class to choose). He's is a good professor. He's knowledgeable about the topic and is straight forward about his opinions. I did a lot more thinking about the material than I thought I would at the beginning of the quarter. He's one of those teachers that gets you to think critically and not to believe everything you hear - even if it comes out of his own mouth. Easy lectures - graded mostly on participation (showing up to class, giving an opinion or asking a question once in a while).Notes were not a big deal - I would take a few notes if he mentioned a published study or a book I wanted to check out later. Two essays, no quizzes or exams. Essays weren't hard - the second is a critique/rewrite of the first and is weighted more. Lab for the class was awesome - watched documentaries and actually had good discussion on them. Field trips were cool. \n",
      "\n",
      "\n"
     ]
    }
   ],
   "source": [
    "for review in test_set.loc[test_set[\"model_4\"] == 0, \"review_content\"].sample(5):\n",
    "    print(review)\n",
    "    print('\\n')"
   ]
  },
  {
   "cell_type": "markdown",
   "metadata": {},
   "source": [
    "Group 0:\n",
    "1. TAKE THIS GUY!\n",
    "2. easy class, despite bad reviews "
   ]
  },
  {
   "cell_type": "markdown",
   "metadata": {},
   "source": [
    "** Model 5 **"
   ]
  },
  {
   "cell_type": "code",
   "execution_count": 19,
   "metadata": {},
   "outputs": [
    {
     "data": {
      "image/png": "[encoded data removed]",
      "text/plain": [
       "<Figure size 432x288 with 1 Axes>"
      ]
     },
     "metadata": {},
     "output_type": "display_data"
    }
   ],
   "source": [
    "test_set[\"model_5\"].value_counts().sort_index().plot.bar().set_title(\"Model 5\")\n",
    "\n",
    "plt.xlabel(\"Groups\", fontsize = 12)\n",
    "plt.ylabel(\"Number of Reviews\", fontsize = 12)\n",
    "plt.ylim(0, 2700)\n",
    "\n",
    "plt.savefig(\"img/model_5.png\")"
   ]
  },
  {
   "cell_type": "code",
   "execution_count": 33,
   "metadata": {},
   "outputs": [
    {
     "name": "stdout",
     "output_type": "stream",
     "text": [
      "If you have a basic knowledge of calculus, then take this guy.  He is not a great teacher, but his grading system rules!  If you do the homework that he assigns then you should do fine.  All you need is like a 54% to get a C in his class.  He has a set curve on his tests.  I got a 44% on one of my tests, and he curved it to a 68, which was a C+ in his class.  He gives a test in the library, and he has hint days the day before, in which he gives you the exact type of question that will be on the test, just with different numbers.  On top of all that, he lets you use a notecard on the tests, and a full sheet of paper on the final.  Beware of his final though, it is very hard.  You have to study hard for the final, but he is worth taking.\n",
      "\n",
      "\n",
      "Some of the material covered in ECON 330 was hard however, other parts of the class were extremely easy. Professor Fisher is a good professor and I would recommend taking his class. Be ready to be called on in class. His lectures are very engaging in the sense that he will just call on you to answer a question. Class followed the structure of 2 quizzes (10%), online homework once a week (30%), and two midterms and a final (60%). The nice thing about the class is that he drops your lowest test score out of the three so if you do well on the midterms, you don't have to take the final.\n",
      "\n",
      "\n",
      "This professor is far below par, definitely one of the worst teachers that I have had a CalPoly so far. She is the least organized professor I have ever seen. Not one speech was uploaded into Polylearn- our final is Friday and I still have yet to know a grade for a SINGLE assignment. She rips your speeches apart, never touches on the positive things you do, only points out every single negative thing that you do. For a communications professor, she is the worst speaker I have heard. She can't complete a sentence without \"uhm\" \"uhhhhh\" \"ahhhhh\" etc. To succeed in this class, honestly I don't really know. I'm expecting a B in this class but that's just based on what she has said to me and how I feel that I have done. You can't really take notes because she doesn't prepare any lecture that notes should be taken on. She never assigned reading then the week before the final said \"all chapters that were assigned for reading would be on the final.\" Made it very difficult. It's coms- it isn't brain surgery. It is a very straight forward class. Do you speeches ahead of time, practice, and no matter what you do don't expect more than a B.Also, avoid her at all costs. She sucks.\n",
      "\n",
      "\n",
      "Robertson is an okay teacher. I had AP Calculus AB in high school and his class was difficult for me. He is incredibly smart and only references the book maybe once in a quarter. He just doesn't really know how to teach his knowledge. He can be rude sometimes when you make dumb arithmetic mistakes. GO TO OFFICE HOURS. Take a group with you and ask questions on all of the problems and he will pretty much give you the answers. Robertson is very picky about details. If you use the wrong preposition he takes 5 points off on that explanation, which I think is a little overkill considering problems are about 15-20 points each.If you have had Calculus before and get this professor, do not think it is an easy A. Pay attention in class and take notes. Study for the midterms and final and you will do fine.\n",
      "\n",
      "\n",
      "This class has a pop quiz everyday, some of the questions are so specific that it does not really test if you read the material or not. However, the midterms are actually not that hard, IF you go to his study sessions before each test (I\\'m not sure if he had one for the first midterm). He tells you everything you need to memorize for the midterm. With that said this is a straight up memorizing class, you dont really learn how to interpret poems or readings from this class because you might think one way but when he explains the reading you will be totally off. I was fortunate enough to get a C on the first midterm without going to the study session but failed my second midterm because i didnt go. I went to both study sessions for the final and managed to bring my grade up to a C+. So to summarize this class, his questions for the quizzes are retarded. His midterms are memorizing his perspectives. Good luck!\n",
      "\n",
      "\n"
     ]
    }
   ],
   "source": [
    "for review in test_set.loc[test_set[\"model_5\"] == 0, \"review_content\"].sample(5):\n",
    "    print(review)\n",
    "    print('\\n')"
   ]
  },
  {
   "cell_type": "code",
   "execution_count": 34,
   "metadata": {},
   "outputs": [
    {
     "name": "stdout",
     "output_type": "stream",
     "text": [
      "I had his class for Econ 201.  All he did was taking the materials out of the text.  And during that quarter that I had him we had a beginning Spanish class across from the hall.  At the beginning of every class he would say something about how the people in the Spanish class wasn't good.  And he keep saying, \"I am not trying to impress you with my Spanish, learning another language is a good thing.\"  Over all his class is easy, if you come to class, watch the slides, and read the text.  But he waste so much time on the slides on our class, he had to drop out two chapters because he could not finish teaching all the materials he is suppose to.  Also he was so nice to us on the day we had to do our in class evulation, at the first I just thought he had a good day and was being nice.  Because he actually look at me when he was talking to me, most of the time he would just look at someone else's face (I sit in the front of the class).  But he just want you to write something nice about him on the evulation.  If you don't mind a boring professor and watch a lot of useless slides, take his class.  \n",
      "\n",
      "\n",
      "Keller is probably the best dynamics teacher out there.  yes, there was a lot of homework, way to much even for dynamics.  i spent probably a good 15 hours  a week on just the homework.  dynamics is a tough course, but that kind of homework really helped me understand the material, i ended up getting a high A on the common final.  the lectures are a little slow, and shes not real quick on the draw with the problems, but who is?  she probably relies on the solution manual a little too much, but i liked that.  i mean think about it, 90% of the teachers at this school have been here for more that 50 years and have never been in the industry that they teach about and so know nothing outside of the textbook.  Keller worked for several years for boeing and (i think) rocketdyne.  Shes a real person, and so cant do all the problems right away in her head, she thinks them through.  in my experience, the only people that can do the problems in their heads, are the ones that have been teaching this course forever and so know all the problems.  she has plenty of office hours and thats where i learned the most.  shes very helpful and  its easy to get very high grades, just do the homework.  the final is only worth 20% so it wont make or break you.  peace.\n",
      "\n",
      "\n",
      "The instructor refused to give the students any guidance on what to study for his tests. He failed to provide necessary equations for students to complete test questions, resulting in a poor average on the midterm. He put the blame on students for not performing as well as previous classes, yet he had not provided any feedback throughout the quarter for us to improve or check our knowledge. The instructor sporadically assigned homework, sometimes without posting it on Polylearn or letting us know when it was due. No grades were given back the whole quarter except for the midterm, which we were not allowed to keep for review. I went to his office hours several times for help, but he almost always had a note on his door that he was out. Other times he was hesitant to give help during office hours, citing that he was busy and I should review the textbook. Most in class problems were worked out by the instructor on the Minitab software, but we were not allowed to use electronics in class, making it difficult to learn the process. Most assignments involved a topic that we were not taught until after their due date, and the instructor would berate us for not understanding the material. The professor actually cut a class period an hour short because he was late for a meeting that he had not told us about. Multiple students in the class had to plead with the teacher to give us a study guide for the final, to allow us to bring our own equation sheet, and to give us worked out example problems so that we had a chance of doing well on the final. I am extremely disappointed in the professor's competence for teaching and how poorly he handled criticism in class. He is so cautious about giving student the tools that they need for success because of his narrow view that it might give us an unfair advantage, keep us from learning, and result in some sort of legal repercussion for him.\n",
      "\n",
      "\n",
      "Dr. Dicus is a very fair and thorough teacher.  He lectures via power point, and although he goes through the slides fast sometimes, he always makes sure to put the lectures on blackboard so the students can access it at their leisure.  His quizzes are multiple choice, and as long as you look through the notes from the previous class and do the assigned reading, you really should be fine.  Yes, some of the questions can be tricky with the wording, but this is college, not kindergarten.  If you know what you're doing, and you understand the material, you'll know what the right answer is.  I don't think he's trying to trick us, I think he's challenging us to understand the information.  As far as people saying how he's got his PhD instead of more fire experience, I think their being a little too critical.  Dr. Dicus is here to present us the thinking skills and background info that is imperative to know before becoming a firefighter.  Dave Fowler, the lab instructor and a firefighter himself, is the guy who is here to show us how to do use the equipment, apply the safety precautions, etc - that's why there's a lab and a lecture.  I think Dave and Dr. Dicus do a good job in their respective classes and it's a great way to learn about fire with a hands-on approach and an informational approach. \n",
      "\n",
      "\n",
      "Professor Latner is great! He was available for office hours and was always welcoming. He is easy to approach and very down to earth. If you want to avoid wasting your time on tedious activities, take this professor. The weekly response papers were really simple to do as long as you know the main concepts for that week's lectures. Dedicate some time to this class and you're guaranteed an A. The tests were online which helped a lot in boosting the grades. The \"group project\" was not challenging at all. The reason being that with 5 people in your group, the workload is not as bad if everyone takes on their load. We had one person do the research for articles and distribute them and three people to write their sections based on the given articles. The last person was assigned the task of organizing and pulling the essay together as if one person wrote it. They wrote the introduction and conclusion. Then, as a whole, the group would aid in editing for the final version. I spent about a week, 2 hours each day to read, brainstorm and write my portion of the paper. This professor does a good job in making you interested in politics. Even though the lectures did tend to get long, I found myself learning a lot from his discussions and from the readings. I thought I wouldn't like POLS but I was wrong!\n",
      "\n",
      "\n"
     ]
    }
   ],
   "source": [
    "for review in test_set.loc[test_set[\"model_5\"] == 1, \"review_content\"].sample(5):\n",
    "    print(review)\n",
    "    print('\\n')"
   ]
  },
  {
   "cell_type": "code",
   "execution_count": 35,
   "metadata": {},
   "outputs": [
    {
     "name": "stdout",
     "output_type": "stream",
     "text": [
      "Gary Perks is a great teacher. He clearly explains the material. The tests are not easy you really have to know what you are doing and do the homework even though he doesn't collect or grade homework. He is very nice and helpful if asked. I have had a hard time understanding EE but I know it would be much worse if Gary weren't there to explain things.\n",
      "\n",
      "\n",
      "Melanie was such a horrible teacher.  She came in late to every lab and did not teach us anything.  She would sit there and after ten minute  s would tell us to keep working on our packaging projects.  She did not instuct us and she did not tell us what to do in detail.  Plus she was really anal when it came to grading our labs final report.  While Pennys class had higher grades since she wasn't too particular.  Plus you will just spend the whole time starring at Melanie and wondering why her jaw is so messed up.  This is the first time I have complained about a teacher, but she was just  so bad.  I would recommend Penny or some other teacher, even Ruggles.\n",
      "\n",
      "\n",
      "First off, Bio 153 is an EXTREMELY time consuming course. If you go into it thinking otherwise you will do very poorly. That said, Dr. Richards does a pretty good job presenting the information. He's got a very dry sense of humor which puts off a lot of people, but I thought he was hilarious. He's always willing to help and has a story for everything. I definitely suggest reading the lab manual before class and making colored flashcards for each chapter. If possible, take an SI! Good luck in 153! I would definitely recommend Richards.\n",
      "\n",
      "\n",
      "Lisa is a great instructor, and deserves a lot more credit than she is given.  She is a tough instructor but she is very, very clear in what she wants.  There will be no question about how to get a desired grade in her class.  She expects a lot out of her students, and at times seems to be a bit over the top for a GE course, but there's no confusion.  Pay attention to details and do everything exactly as she tells you and you will do fine.  Start speeches early too, the research takes longer than you'd think.  She also grades easy if she can see you really put out a lot of effort, so you don't have to be debate team material to get an A.\n",
      "\n",
      "\n",
      "This course was a survey of biology that engineers should know for preparation for industry.  I found that freshmen could not appreciate the experience. I however could connect the professors experience with real life.The professor uses humor to re-engage students in the subject matter, but clearly teaches what is actually important in industry.  Freshman have no experience in life and do not understand what is important.This course was exceptional and brought real world applications into the class. The instructor was in industry for several years and communicated this information. Some underclassmen didn\\'t understand the importance of what was being taught. The information was up to date and even beyond they biology department, e.g., aptamers.I highly recommend this course. I also recommend ignoring noob freshman who really don\\'t know sh....t, especially those who get a C in this course.\n",
      "\n",
      "\n"
     ]
    }
   ],
   "source": [
    "for review in test_set.loc[test_set[\"model_5\"] == 2, \"review_content\"].sample(5):\n",
    "    print(review)\n",
    "    print('\\n')"
   ]
  },
  {
   "cell_type": "markdown",
   "metadata": {},
   "source": [
    "** Model 6 **"
   ]
  },
  {
   "cell_type": "code",
   "execution_count": 20,
   "metadata": {},
   "outputs": [
    {
     "data": {
      "image/png": "[encoded data removed]",
      "text/plain": [
       "<Figure size 432x288 with 1 Axes>"
      ]
     },
     "metadata": {},
     "output_type": "display_data"
    }
   ],
   "source": [
    "test_set[\"model_6\"].value_counts().sort_index().plot.bar().set_title(\"Model 6\")\n",
    "\n",
    "plt.xlabel(\"Groups\", fontsize = 12)\n",
    "plt.ylabel(\"Number of Reviews\", fontsize = 12)\n",
    "plt.ylim(0, 2700)\n",
    "\n",
    "plt.savefig(\"img/model_6.png\")"
   ]
  },
  {
   "cell_type": "markdown",
   "metadata": {},
   "source": [
    "### Auto-Moderator Learning Model (K-nearest neighbors)\n",
    "\n",
    "Factors Used in the Model (X):\n",
    "- review_content (in the form of TF-IDF words)\n",
    "- class_abv (varies by major)\n",
    "- class_number (difficulty increases over time)\n",
    "- student_standing \n",
    "\n",
    "Predicting (Y):\n",
    "- category of message (spam / un-useful / regular)"
   ]
  },
  {
   "cell_type": "code",
   "execution_count": null,
   "metadata": {},
   "outputs": [],
   "source": [
    "%matplotlib inline\n",
    "import pandas as pd\n",
    "import numpy as np\n",
    "\n",
    "from sklearn.preprocessing import StandardScaler\n",
    "from sklearn.preprocessing import LabelEncoder\n",
    "from sklearn.neighbors import KNeighborsClassifier, KNeighborsRegressor\n",
    "from sklearn.pipeline import Pipeline\n",
    "from sklearn.model_selection import cross_val_score"
   ]
  },
  {
   "cell_type": "markdown",
   "metadata": {},
   "source": [
    "** Using K-Nearest Neighbors **"
   ]
  },
  {
   "cell_type": "code",
   "execution_count": 75,
   "metadata": {},
   "outputs": [],
   "source": [
    "def get_Kneighbors_test_error(k):\n",
    "    scaler = StandardScaler()\n",
    "    model = KNeighborsRegressor(n_neighbors=k)\n",
    "    pipeline = Pipeline([('transform', scaler), ('fit', model)])\n",
    "    return np.sqrt(np.abs(cross_val_score(pipeline, X_train, y_train, cv=10, scoring=\"neg_mean_squared_error\").mean()))"
   ]
  },
  {
   "cell_type": "code",
   "execution_count": 76,
   "metadata": {},
   "outputs": [],
   "source": [
    "ks = pd.Series(range(1, 51, 1))\n",
    "ks.index = ks\n",
    "\n",
    "k_cross_val = ks.apply(get_Kneighbors_test_error)"
   ]
  },
  {
   "cell_type": "code",
   "execution_count": null,
   "metadata": {},
   "outputs": [],
   "source": [
    "k_cross_val.plot()\n",
    "k_cross_val.idxmin()"
   ]
  }
 ],
 "metadata": {
  "kernelspec": {
   "display_name": "Python 3",
   "language": "python",
   "name": "python3"
  },
  "language_info": {
   "codemirror_mode": {
    "name": "ipython",
    "version": 3
   },
   "file_extension": ".py",
   "mimetype": "text/x-python",
   "name": "python",
   "nbconvert_exporter": "python",
   "pygments_lexer": "ipython3",
   "version": "3.6.5"
  }
 },
 "nbformat": 4,
 "nbformat_minor": 2
}
