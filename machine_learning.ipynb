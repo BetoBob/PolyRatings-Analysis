{
 "cells": [
  {
   "cell_type": "markdown",
   "metadata": {},
   "source": [
    "# Machine Learning"
   ]
  },
  {
   "cell_type": "code",
   "execution_count": 1,
   "metadata": {},
   "outputs": [
    {
     "data": {
      "text/html": [
       "<div>\n",
       "<style scoped>\n",
       "    .dataframe tbody tr th:only-of-type {\n",
       "        vertical-align: middle;\n",
       "    }\n",
       "\n",
       "    .dataframe tbody tr th {\n",
       "        vertical-align: top;\n",
       "    }\n",
       "\n",
       "    .dataframe thead th {\n",
       "        text-align: right;\n",
       "    }\n",
       "</style>\n",
       "<table border=\"1\" class=\"dataframe\">\n",
       "  <thead>\n",
       "    <tr style=\"text-align: right;\">\n",
       "      <th></th>\n",
       "      <th>class</th>\n",
       "      <th>class_abrv</th>\n",
       "      <th>class_number</th>\n",
       "      <th>review_content</th>\n",
       "      <th>review_month</th>\n",
       "      <th>review_year</th>\n",
       "      <th>student_gpa</th>\n",
       "      <th>student_grade</th>\n",
       "      <th>student_major</th>\n",
       "      <th>student_rank</th>\n",
       "      <th>student_standing</th>\n",
       "      <th>teacher_difficulties</th>\n",
       "      <th>teacher_field</th>\n",
       "      <th>teacher_name</th>\n",
       "      <th>teacher_presentaion</th>\n",
       "      <th>teacher_rating</th>\n",
       "    </tr>\n",
       "  </thead>\n",
       "  <tbody>\n",
       "    <tr>\n",
       "      <th>0</th>\n",
       "      <td>CPE 215</td>\n",
       "      <td>CPE</td>\n",
       "      <td>215</td>\n",
       "      <td>he knows what he's talking about, he knows how...</td>\n",
       "      <td>Aug</td>\n",
       "      <td>2001</td>\n",
       "      <td>4.0</td>\n",
       "      <td>A</td>\n",
       "      <td>Required (Major)</td>\n",
       "      <td>1</td>\n",
       "      <td>Sophomore</td>\n",
       "      <td>3.64</td>\n",
       "      <td>Computer Science</td>\n",
       "      <td>Connely, John</td>\n",
       "      <td>3.45</td>\n",
       "      <td>3.41</td>\n",
       "    </tr>\n",
       "    <tr>\n",
       "      <th>1</th>\n",
       "      <td>CPE 215</td>\n",
       "      <td>CPE</td>\n",
       "      <td>215</td>\n",
       "      <td>In two years being here at Cal Poly, Dr Connel...</td>\n",
       "      <td>Aug</td>\n",
       "      <td>2001</td>\n",
       "      <td>4.0</td>\n",
       "      <td>A</td>\n",
       "      <td>Required (Major)</td>\n",
       "      <td>1</td>\n",
       "      <td>Sophomore</td>\n",
       "      <td>3.64</td>\n",
       "      <td>Computer Science</td>\n",
       "      <td>Connely, John</td>\n",
       "      <td>3.45</td>\n",
       "      <td>3.41</td>\n",
       "    </tr>\n",
       "    <tr>\n",
       "      <th>2</th>\n",
       "      <td>CPE 215</td>\n",
       "      <td>CPE</td>\n",
       "      <td>215</td>\n",
       "      <td>Connely's an excellent professor.  I've had hi...</td>\n",
       "      <td>Aug</td>\n",
       "      <td>2001</td>\n",
       "      <td>3.0</td>\n",
       "      <td>B</td>\n",
       "      <td>Required (Major)</td>\n",
       "      <td>2</td>\n",
       "      <td>Junior</td>\n",
       "      <td>3.64</td>\n",
       "      <td>Computer Science</td>\n",
       "      <td>Connely, John</td>\n",
       "      <td>3.45</td>\n",
       "      <td>3.41</td>\n",
       "    </tr>\n",
       "    <tr>\n",
       "      <th>3</th>\n",
       "      <td>CPE 215</td>\n",
       "      <td>CPE</td>\n",
       "      <td>215</td>\n",
       "      <td>This guy knows what he is talking about, and h...</td>\n",
       "      <td>Aug</td>\n",
       "      <td>2001</td>\n",
       "      <td>4.0</td>\n",
       "      <td>A</td>\n",
       "      <td>Required (Major)</td>\n",
       "      <td>1</td>\n",
       "      <td>Sophomore</td>\n",
       "      <td>3.64</td>\n",
       "      <td>Computer Science</td>\n",
       "      <td>Connely, John</td>\n",
       "      <td>3.45</td>\n",
       "      <td>3.41</td>\n",
       "    </tr>\n",
       "    <tr>\n",
       "      <th>4</th>\n",
       "      <td>CPE 215</td>\n",
       "      <td>CPE</td>\n",
       "      <td>215</td>\n",
       "      <td>I could go on and on about how great of a teac...</td>\n",
       "      <td>Dec</td>\n",
       "      <td>1999</td>\n",
       "      <td>4.0</td>\n",
       "      <td>A</td>\n",
       "      <td>Required (Support)</td>\n",
       "      <td>2</td>\n",
       "      <td>Junior</td>\n",
       "      <td>3.64</td>\n",
       "      <td>Computer Science</td>\n",
       "      <td>Connely, John</td>\n",
       "      <td>3.45</td>\n",
       "      <td>3.41</td>\n",
       "    </tr>\n",
       "  </tbody>\n",
       "</table>\n",
       "</div>"
      ],
      "text/plain": [
       "     class class_abrv  class_number  \\\n",
       "0  CPE 215        CPE           215   \n",
       "1  CPE 215        CPE           215   \n",
       "2  CPE 215        CPE           215   \n",
       "3  CPE 215        CPE           215   \n",
       "4  CPE 215        CPE           215   \n",
       "\n",
       "                                      review_content review_month  \\\n",
       "0  he knows what he's talking about, he knows how...          Aug   \n",
       "1  In two years being here at Cal Poly, Dr Connel...          Aug   \n",
       "2  Connely's an excellent professor.  I've had hi...          Aug   \n",
       "3  This guy knows what he is talking about, and h...          Aug   \n",
       "4  I could go on and on about how great of a teac...          Dec   \n",
       "\n",
       "   review_year  student_gpa student_grade       student_major  student_rank  \\\n",
       "0         2001          4.0             A    Required (Major)             1   \n",
       "1         2001          4.0             A    Required (Major)             1   \n",
       "2         2001          3.0             B    Required (Major)             2   \n",
       "3         2001          4.0             A    Required (Major)             1   \n",
       "4         1999          4.0             A  Required (Support)             2   \n",
       "\n",
       "  student_standing  teacher_difficulties       teacher_field   teacher_name  \\\n",
       "0        Sophomore                  3.64    Computer Science  Connely, John   \n",
       "1        Sophomore                  3.64    Computer Science  Connely, John   \n",
       "2           Junior                  3.64    Computer Science  Connely, John   \n",
       "3        Sophomore                  3.64    Computer Science  Connely, John   \n",
       "4           Junior                  3.64    Computer Science  Connely, John   \n",
       "\n",
       "   teacher_presentaion  teacher_rating  \n",
       "0                 3.45            3.41  \n",
       "1                 3.45            3.41  \n",
       "2                 3.45            3.41  \n",
       "3                 3.45            3.41  \n",
       "4                 3.45            3.41  "
      ]
     },
     "execution_count": 1,
     "metadata": {},
     "output_type": "execute_result"
    }
   ],
   "source": [
    "import pandas as pd\n",
    "\n",
    "reviews_uc = pd.read_csv(\"polyratings_reviews.csv\")\n",
    "reviews = reviews_uc.drop(reviews_uc[[\"Unnamed: 0\", \"Unnamed: 0.1\"]], axis = 1) # proper indexing\n",
    "reviews[\"review_content\"] = reviews[\"review_content\"].fillna(\"\") # accounts for empty reviews\n",
    "\n",
    "reviews.head()"
   ]
  },
  {
   "cell_type": "markdown",
   "metadata": {},
   "source": [
    "## K-Means Clustering of Reviews"
   ]
  },
  {
   "cell_type": "code",
   "execution_count": 2,
   "metadata": {},
   "outputs": [],
   "source": [
    "test_set = reviews.sample(frac=.05)"
   ]
  },
  {
   "cell_type": "code",
   "execution_count": 3,
   "metadata": {},
   "outputs": [
    {
     "data": {
      "text/plain": [
       "3251"
      ]
     },
     "execution_count": 3,
     "metadata": {},
     "output_type": "execute_result"
    }
   ],
   "source": [
    "test_set.count()[0]"
   ]
  },
  {
   "cell_type": "markdown",
   "metadata": {},
   "source": [
    "Using a sample of the data collected because there's an unusually high variety of words. The sample size for our test data-set is twice as long as the Obama Tweets data-set."
   ]
  },
  {
   "cell_type": "code",
   "execution_count": 4,
   "metadata": {},
   "outputs": [],
   "source": [
    "from collections import Counter\n",
    "\n",
    "# creation of bag of words\n",
    "words = (\n",
    "    test_set.review_content\n",
    "    .str.lower()\n",
    "    .str.replace(\"[^\\w\\s]\", \"\") \n",
    "    .str.split()\n",
    "    .apply(Counter)\n",
    ")"
   ]
  },
  {
   "cell_type": "code",
   "execution_count": 5,
   "metadata": {},
   "outputs": [],
   "source": [
    "tf = pd.DataFrame(list(words)).fillna(0)"
   ]
  },
  {
   "cell_type": "code",
   "execution_count": null,
   "metadata": {},
   "outputs": [],
   "source": [
    "(tf.sum() > 2).value_counts()"
   ]
  },
  {
   "cell_type": "code",
   "execution_count": 17,
   "metadata": {},
   "outputs": [],
   "source": [
    "# removes a lot of random words\n",
    "trunc_idf = tf_idf[tf_idf.columns[tf_idf.sum() > 20]]"
   ]
  },
  {
   "cell_type": "code",
   "execution_count": 20,
   "metadata": {},
   "outputs": [],
   "source": [
    "from sklearn.cluster import KMeans\n",
    "\n",
    "# Make cluster from size n = 2 to n = 6\n",
    "\n",
    "for n in range(2, 7):\n",
    "    model = KMeans(n_clusters = n)\n",
    "    model.fit(trunc_idf)\n",
    "    clusters = model.labels_\n",
    "    test_set[\"model_\" + str(n)] = clusters       \n",
    "\n",
    "test_set.to_csv(\"kmeans_test_set.csv\")"
   ]
  },
  {
   "cell_type": "markdown",
   "metadata": {},
   "source": [
    "### Auto-Moderator Learning Model (K-nearest neighbors)\n",
    "\n",
    "Factors Used in the Model (X):\n",
    "- review_content (in the form of TF-IDF words)\n",
    "- class_abv (varies by major)\n",
    "- class_number (difficulty increases over time)\n",
    "\n",
    "Predicting (Y):\n",
    "- teacher_presentation\n",
    "- teacher_difficulties\n",
    "- teacher_rating"
   ]
  },
  {
   "cell_type": "code",
   "execution_count": 74,
   "metadata": {},
   "outputs": [],
   "source": [
    "X_train = pd.get_dummies(beer.drop([\"id\", \"description\", \"ibu\", \"name\"], axis=1))\n",
    "y_train = beer[\"ibu\"]"
   ]
  },
  {
   "cell_type": "markdown",
   "metadata": {},
   "source": [
    "** Using K-Nearest Neighbors **"
   ]
  },
  {
   "cell_type": "code",
   "execution_count": 75,
   "metadata": {},
   "outputs": [],
   "source": [
    "def get_Kneighbors_test_error(k):\n",
    "    scaler = StandardScaler()\n",
    "    model = KNeighborsRegressor(n_neighbors=k)\n",
    "    pipeline = Pipeline([('transform', scaler), ('fit', model)])\n",
    "    return np.sqrt(np.abs(cross_val_score(pipeline, X_train, y_train, cv=10, scoring=\"neg_mean_squared_error\").mean()))"
   ]
  },
  {
   "cell_type": "code",
   "execution_count": 76,
   "metadata": {},
   "outputs": [],
   "source": [
    "ks = pd.Series(range(1, 51, 1))\n",
    "ks.index = ks\n",
    "\n",
    "k_cross_val = ks.apply(get_Kneighbors_test_error)"
   ]
  },
  {
   "cell_type": "code",
   "execution_count": 78,
   "metadata": {},
   "outputs": [
    {
     "data": {
      "text/plain": [
       "20"
      ]
     },
     "execution_count": 78,
     "metadata": {},
     "output_type": "execute_result"
    },
    {
     "data": {
      "image/png": "[encoded data removed]",
      "text/plain": [
       "<matplotlib.figure.Figure at 0x7fb54cf67d68>"
      ]
     },
     "metadata": {},
     "output_type": "display_data"
    }
   ],
   "source": [
    "k_cross_val.plot()\n",
    "k_cross_val.idxmin()"
   ]
  },
  {
   "cell_type": "markdown",
   "metadata": {},
   "source": [
    "**20** appears to be a good k-value to use as it achieves the lowest typical error in our set of k-values."
   ]
  },
  {
   "cell_type": "code",
   "execution_count": 80,
   "metadata": {},
   "outputs": [],
   "source": [
    "import sys\n",
    "\n",
    "model = KNeighborsRegressor(n_neighbors=20)\n",
    "model.fit(X_train, y_train)\n",
    "\n",
    "X_test = pd.get_dummies(beer_test.drop([\"id\", \"description\", \"ibu\", \"name\"], axis=1))\n",
    "beer_test[\"ibu\"] = model.predict(X_test)\n",
    "\n",
    "orig_stdout = sys.stdout\n",
    "outfile = open('kneighbors_test.csv', 'w')\n",
    "sys.stdout = outfile\n",
    "\n",
    "print((beer_test[[\"id\", \"ibu\"]].set_index(\"id\")).to_csv())\n",
    "\n",
    "sys.stdout = orig_stdout\n",
    "outfile.close()"
   ]
  }
 ],
 "metadata": {
  "kernelspec": {
   "display_name": "Python 3",
   "language": "python",
   "name": "python3"
  },
  "language_info": {
   "codemirror_mode": {
    "name": "ipython",
    "version": 3
   },
   "file_extension": ".py",
   "mimetype": "text/x-python",
   "name": "python",
   "nbconvert_exporter": "python",
   "pygments_lexer": "ipython3",
   "version": "3.6.5"
  }
 },
 "nbformat": 4,
 "nbformat_minor": 2
}
