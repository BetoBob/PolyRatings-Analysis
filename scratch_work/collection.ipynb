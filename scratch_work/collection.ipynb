{
 "cells": [
  {
   "cell_type": "code",
   "execution_count": 1,
   "metadata": {},
   "outputs": [],
   "source": [
    "import requests\n",
    "resp = requests.get(\"http://polyratings.com/list.php\")"
   ]
  },
  {
   "cell_type": "code",
   "execution_count": 2,
   "metadata": {},
   "outputs": [
    {
     "data": {
      "text/plain": [
       "<Response [200]>"
      ]
     },
     "execution_count": 2,
     "metadata": {},
     "output_type": "execute_result"
    }
   ],
   "source": [
    "resp"
   ]
  },
  {
   "cell_type": "code",
   "execution_count": 4,
   "metadata": {},
   "outputs": [
    {
     "name": "stderr",
     "output_type": "stream",
     "text": [
      "Some characters could not be decoded, and were replaced with REPLACEMENT CHARACTER.\n"
     ]
    },
    {
     "data": {
      "text/plain": [
       "2"
      ]
     },
     "execution_count": 4,
     "metadata": {},
     "output_type": "execute_result"
    }
   ],
   "source": [
    "from bs4 import BeautifulSoup\n",
    "soup = BeautifulSoup(resp.content, \"html.parser\")\n",
    "tables = soup.find_all(\"table\")\n",
    "len(tables)"
   ]
  },
  {
   "cell_type": "code",
   "execution_count": 14,
   "metadata": {},
   "outputs": [],
   "source": [
    "snape = requests.get(\"http://polyratings.com/eval.php?profid=3485\")"
   ]
  },
  {
   "cell_type": "code",
   "execution_count": 15,
   "metadata": {},
   "outputs": [
    {
     "data": {
      "text/plain": [
       "<Response [200]>"
      ]
     },
     "execution_count": 15,
     "metadata": {},
     "output_type": "execute_result"
    }
   ],
   "source": [
    "snape"
   ]
  },
  {
   "cell_type": "code",
   "execution_count": 16,
   "metadata": {},
   "outputs": [],
   "source": [
    "snape_soup = BeautifulSoup(snape.content, \"html.parser\")"
   ]
  },
  {
   "cell_type": "code",
   "execution_count": 22,
   "metadata": {},
   "outputs": [
    {
     "data": {
      "text/plain": [
       "\u001b[0;31mSignature:\u001b[0m \u001b[0msnape_soup\u001b[0m\u001b[0;34m.\u001b[0m\u001b[0mfindAll\u001b[0m\u001b[0;34m(\u001b[0m\u001b[0mname\u001b[0m\u001b[0;34m=\u001b[0m\u001b[0;32mNone\u001b[0m\u001b[0;34m,\u001b[0m \u001b[0mattrs\u001b[0m\u001b[0;34m=\u001b[0m\u001b[0;34m{\u001b[0m\u001b[0;34m}\u001b[0m\u001b[0;34m,\u001b[0m \u001b[0mrecursive\u001b[0m\u001b[0;34m=\u001b[0m\u001b[0;32mTrue\u001b[0m\u001b[0;34m,\u001b[0m \u001b[0mtext\u001b[0m\u001b[0;34m=\u001b[0m\u001b[0;32mNone\u001b[0m\u001b[0;34m,\u001b[0m \u001b[0mlimit\u001b[0m\u001b[0;34m=\u001b[0m\u001b[0;32mNone\u001b[0m\u001b[0;34m,\u001b[0m \u001b[0;34m**\u001b[0m\u001b[0mkwargs\u001b[0m\u001b[0;34m)\u001b[0m\u001b[0;34m\u001b[0m\u001b[0m\n",
       "\u001b[0;31mDocstring:\u001b[0m\n",
       "Extracts a list of Tag objects that match the given\n",
       "criteria.  You can specify the name of the Tag and any\n",
       "attributes you want the Tag to have.\n",
       "\n",
       "The value of a key-value pair in the 'attrs' map can be a\n",
       "string, a list of strings, a regular expression object, or a\n",
       "callable that takes a string and returns whether or not the\n",
       "string matches for some custom definition of 'matches'. The\n",
       "same is true of the tag name.\n",
       "\u001b[0;31mFile:\u001b[0m      /opt/conda/lib/python3.6/site-packages/bs4/element.py\n",
       "\u001b[0;31mType:\u001b[0m      method\n"
      ]
     },
     "metadata": {},
     "output_type": "display_data"
    }
   ],
   "source": [
    "data = snape_soup.findAll?"
   ]
  },
  {
   "cell_type": "code",
   "execution_count": 30,
   "metadata": {},
   "outputs": [],
   "source": [
    "data = snape_soup.find_all(\"text\")"
   ]
  },
  {
   "cell_type": "markdown",
   "metadata": {},
   "source": [
    "** Professor STAFF **"
   ]
  },
  {
   "cell_type": "code",
   "execution_count": 33,
   "metadata": {},
   "outputs": [],
   "source": [
    "STAFF = requests.get(\"http://polyratings.com/eval.php?profid=3899\")"
   ]
  },
  {
   "cell_type": "code",
   "execution_count": 35,
   "metadata": {},
   "outputs": [],
   "source": [
    "STAFF_soup = BeautifulSoup(STAFF.content, \"html.parser\")"
   ]
  },
  {
   "cell_type": "code",
   "execution_count": 37,
   "metadata": {},
   "outputs": [],
   "source": [
    "data = STAFF_soup.find_all(text = True)"
   ]
  },
  {
   "cell_type": "code",
   "execution_count": 40,
   "metadata": {},
   "outputs": [],
   "source": [
    "file = open(\"test.txt\", mode = 'w')\n",
    "for x in data:\n",
    "    file.write(x)\n",
    "file.close()"
   ]
  },
  {
   "cell_type": "markdown",
   "metadata": {},
   "source": [
    "** Snape, Severus **"
   ]
  },
  {
   "cell_type": "code",
   "execution_count": 41,
   "metadata": {},
   "outputs": [],
   "source": [
    "import requests\n",
    "\n",
    "snape = requests.get(\"http://polyratings.com/eval.php?profid=3485\")"
   ]
  },
  {
   "cell_type": "code",
   "execution_count": 42,
   "metadata": {},
   "outputs": [],
   "source": [
    "snape_soup = BeautifulSoup(snape.content, \"html.parser\")"
   ]
  },
  {
   "cell_type": "code",
   "execution_count": 43,
   "metadata": {},
   "outputs": [],
   "source": [
    "snape_data = snape_soup.find_all(text = True)"
   ]
  },
  {
   "cell_type": "code",
   "execution_count": 44,
   "metadata": {},
   "outputs": [],
   "source": [
    "file = open(\"snape.txt\", mode = 'w')\n",
    "for x in snape_data:\n",
    "    file.write(x)\n",
    "file.close()"
   ]
  },
  {
   "cell_type": "markdown",
   "metadata": {},
   "source": [
    "** Large **"
   ]
  },
  {
   "cell_type": "code",
   "execution_count": 46,
   "metadata": {},
   "outputs": [],
   "source": [
    "large = requests.get(\"http://polyratings.com/eval.php?profid=55\")"
   ]
  },
  {
   "cell_type": "code",
   "execution_count": 47,
   "metadata": {},
   "outputs": [],
   "source": [
    "large_soup = BeautifulSoup(large.content, \"html.parser\")"
   ]
  },
  {
   "cell_type": "code",
   "execution_count": 48,
   "metadata": {},
   "outputs": [],
   "source": [
    "large_data = large_soup.find_all(text = True)"
   ]
  },
  {
   "cell_type": "code",
   "execution_count": 49,
   "metadata": {},
   "outputs": [],
   "source": [
    "file = open(\"large.txt\", mode = 'w')\n",
    "for x in large_data:\n",
    "    file.write(x)\n",
    "file.close()"
   ]
  },
  {
   "cell_type": "markdown",
   "metadata": {},
   "source": [
    "** Snape, Severus **"
   ]
  },
  {
   "cell_type": "code",
   "execution_count": 2,
   "metadata": {},
   "outputs": [],
   "source": [
    "import requests\n",
    "from bs4 import BeautifulSoup\n",
    "snape = requests.get(\"http://polyratings.com/eval.php?profid=3485\")"
   ]
  },
  {
   "cell_type": "code",
   "execution_count": 3,
   "metadata": {},
   "outputs": [],
   "source": [
    "snape_soup = BeautifulSoup(snape.content, \"html.parser\")"
   ]
  },
  {
   "cell_type": "code",
   "execution_count": 4,
   "metadata": {},
   "outputs": [],
   "source": [
    "snape_data = snape_soup.find_all(text = True)"
   ]
  },
  {
   "cell_type": "code",
   "execution_count": 7,
   "metadata": {},
   "outputs": [
    {
     "data": {
      "text/plain": [
       "['HTML PUBLIC \"-//W3C//DTD HTML 4.01 Transitional//EN\" \"http://www.w3.org/TR/html4/loose.dtd\"',\n",
       " '\\n',\n",
       " '\\n',\n",
       " '\\n',\n",
       " 'Polyratings.com',\n",
       " '\\n',\n",
       " '\\n',\n",
       " ' Mobile Friendly Meta ',\n",
       " '\\n',\n",
       " '\\n',\n",
       " '\\n',\n",
       " '\\n',\n",
       " ' jQuery Include ',\n",
       " '\\n',\n",
       " '\\n',\n",
       " ' Bootstrap Includes ',\n",
       " '\\n',\n",
       " '\\n',\n",
       " '\\n',\n",
       " '\\n',\n",
       " ' Google Analytics ',\n",
       " '\\n',\n",
       " \"\\n\\n     var _gaq = _gaq || [];\\n     _gaq.push(['_setAccount', 'UA-20808156-1']);\\n     _gaq.push(['_setDomainName', '.polyratings.com']);\\n     _gaq.push(['_trackPageview']);\\n\\n     (function() {\\n       var ga = document.createElement('script'); ga.type = 'text/javascript'; ga.async = true;\\n       ga.src = ('https:' == document.location.protocol ? 'https://ssl' : 'http://www') + '.google-analytics.com/ga.js';\\n       var s = document.getElementsByTagName('script')[0]; s.parentNode.insertBefore(ga, s);\\n     })();\\n   \",\n",
       " '\\n',\n",
       " '\\n',\n",
       " '\\n',\n",
       " 'static test 3',\n",
       " '\\n',\n",
       " '\\n',\n",
       " '\\n',\n",
       " '\\n',\n",
       " ' nav toggle',\n",
       " '\\n',\n",
       " '\\n',\n",
       " 'Toggle navigation',\n",
       " '\\n',\n",
       " '\\n',\n",
       " '\\n',\n",
       " '\\n',\n",
       " '\\n',\n",
       " ' logo',\n",
       " '\\n',\n",
       " '\\n',\n",
       " '\\n',\n",
       " '\\n',\n",
       " '\\n',\n",
       " '\\n',\n",
       " '\\n',\n",
       " ' content of navigation bar',\n",
       " '\\n',\n",
       " '\\n',\n",
       " '\\n',\n",
       " '\\n',\n",
       " ' search box ',\n",
       " '\\n',\n",
       " '\\n',\n",
       " ' types of searches',\n",
       " '\\n',\n",
       " '\\n',\n",
       " 'Instructor',\n",
       " '\\n',\n",
       " 'Class',\n",
       " '\\n',\n",
       " 'Department',\n",
       " '\\n',\n",
       " 'Keyword',\n",
       " '\\n',\n",
       " '\\n',\n",
       " ' for both keyword and professor ',\n",
       " '\\n',\n",
       " '\\n',\n",
       " '\\n',\n",
       " '\\n',\n",
       " '\\n                      \\xa0 ',\n",
       " ' This nbsp is necessary due to the button being misaligned fixed in later versions of bootstrap https://github.com/twbs/bootstrap/issues/10482',\n",
       " '\\n',\n",
       " '\\n',\n",
       " '\\n',\n",
       " '\\n',\n",
       " 'input group',\n",
       " '\\n',\n",
       " ' need input for specific class',\n",
       " '\\n',\n",
       " '\\n',\n",
       " ' toplevel links ',\n",
       " '\\n',\n",
       " '\\n',\n",
       " 'Professor List',\n",
       " '\\n',\n",
       " 'Evaluate a Professor',\n",
       " '\\n',\n",
       " 'Contact Us',\n",
       " '\\n',\n",
       " '\\n',\n",
       " '\\n                  \\xa0',\n",
       " '\\n',\n",
       " '\\n',\n",
       " 'About Us',\n",
       " '\\n',\n",
       " 'FAQ',\n",
       " '\\n',\n",
       " '\\n',\n",
       " '\\n',\n",
       " '\\n',\n",
       " '\\n',\n",
       " '\\n',\n",
       " '\\n',\n",
       " ' close container',\n",
       " '\\n',\n",
       " '\\n',\n",
       " '\\n',\n",
       " 'Snape, Severus',\n",
       " '\\xa0\\xa0',\n",
       " '\\n',\n",
       " '\\n',\n",
       " '\\n',\n",
       " '\\n',\n",
       " '  Chemistry and Biochemistry',\n",
       " '3.17/4.00',\n",
       " '12 evaluations',\n",
       " 'Recognizes Student Difficulties: 2.33',\n",
       " 'Presents Material Clearly: 3.33',\n",
       " '3.17/4.00',\n",
       " '12 evaluations',\n",
       " ' ',\n",
       " 'Evaluate Professor',\n",
       " '\\n',\n",
       " '\\n    $(document).ready(function() {\\n      //scroll to sections instead of jumping\\n      $(\"nav #sidebar li a[href^=\\'#\\']\").on(\\'click\\', function(e) {\\n         e.preventDefault();\\n         var tmpHash = this.hash;\\n\\n         //animate the scrolling to a certain section\\n         $(\\'html, body\\').animate({\\n             scrollTop: $(tmpHash).offset().top\\n           }, 500, function(){\\n     \\n             //add hash to url\\n             window.location.hash = tmpHash;\\n           });\\n\\n      });\\n\\n      $(\\'[data-toggle=\"tooltip\"]\\').tooltip(); \\n    });    \\n  ',\n",
       " '\\n',\n",
       " '\\n',\n",
       " '\\n',\n",
       " '\\n',\n",
       " '\\n',\n",
       " 'CHEM 101',\n",
       " '\\n',\n",
       " '\\n',\n",
       " '\\n',\n",
       " 'CHEM 110',\n",
       " '\\n',\n",
       " '\\n',\n",
       " '\\n',\n",
       " 'CHEM 124',\n",
       " '\\n',\n",
       " '\\n',\n",
       " '\\n',\n",
       " 'CHEM 125',\n",
       " '\\n',\n",
       " '\\n',\n",
       " '\\n',\n",
       " 'CHEM 129',\n",
       " '\\n',\n",
       " '\\n',\n",
       " '\\n',\n",
       " 'CHEM 202',\n",
       " '\\n',\n",
       " '\\n',\n",
       " '\\n',\n",
       " 'CHEM 211',\n",
       " '\\n',\n",
       " '\\n',\n",
       " '\\n',\n",
       " 'CHEM 216',\n",
       " '\\n',\n",
       " '\\n',\n",
       " '\\n',\n",
       " 'CHEM 242',\n",
       " '\\n',\n",
       " '\\n',\n",
       " '\\n',\n",
       " 'CHEM 394',\n",
       " '\\n',\n",
       " '\\n',\n",
       " '\\n',\n",
       " '\\n',\n",
       " '\\n',\n",
       " '\\n',\n",
       " 'CHEM 101',\n",
       " '\\n',\n",
       " '\\n',\n",
       " '\\nFreshman',\n",
       " '\\nB',\n",
       " '\\nGeneral Ed',\n",
       " '\\nMay 2014',\n",
       " '\\n',\n",
       " '\\n',\n",
       " '\\nSnape, Snape, Severus Snape.',\n",
       " '\\n',\n",
       " '\\n',\n",
       " 'CHEM 110',\n",
       " '\\n',\n",
       " '\\n',\n",
       " '\\nFreshman',\n",
       " '\\nA',\n",
       " '\\nElective',\n",
       " '\\nMar 2014',\n",
       " '\\n',\n",
       " '\\n',\n",
       " \"\\nThis professor is the most amazing teacher in this joint. He really knows where the right blood lies and treats his students accordingly. If you're a mudblood, watch out. He does not take crap from any blood traders either so make sure you know your place. Overall a shining example of a professor. Kudos.\",\n",
       " '\\n',\n",
       " '\\n',\n",
       " 'CHEM 124',\n",
       " '\\n',\n",
       " '\\n',\n",
       " '\\nFreshman',\n",
       " '\\nD',\n",
       " '\\nRequired (Major)',\n",
       " '\\nMay 2015',\n",
       " '\\n',\n",
       " '\\n',\n",
       " \"\\nI tried really hard in his class but he seemed to really hate me for some reason. I tried going to office hours but he's really intimidating and to be honest he's what the boggart turns into when it sees me. I read on YikYak that he killed our old President Dumbledore. Overall, he's really scary but he really seems to know his stuff. \",\n",
       " '\\n',\n",
       " '\\n',\n",
       " '\\n',\n",
       " '\\nFreshman',\n",
       " '\\nC',\n",
       " '\\nRequired (Support)',\n",
       " '\\nJan 2018',\n",
       " '\\n',\n",
       " '\\n',\n",
       " \"\\nVery cramped handwriting, difficult to read on the blackboard. Classroom was dimly lit and he was very hard to pay attention to. Definitely picked favorites and would snap at people who weren't good at chem.  You could tell he hated his job. He got like a quarter of his students through finals though so he must have taught some of them\",\n",
       " '\\n',\n",
       " '\\n',\n",
       " 'CHEM 125',\n",
       " '\\n',\n",
       " '\\n',\n",
       " '\\nSophomore',\n",
       " '\\nC',\n",
       " '\\nElective',\n",
       " '\\nJan 2015',\n",
       " '\\n',\n",
       " '\\n',\n",
       " \"\\nComing in to the class I had heard some things about Snape; he grades hard, he gives long homework assignments, he's a death eater, etc., and I was pretty intimidated. While it is true that he is a hard professor, I've learned more in his class than any other chemistry class before. His teaching style is very unorthodox; most students were working on balancing equations and entropy while we were studying Polyjuice Potion. However, it all works in the end. I'd really struggled to make a liquid luck in my CHEM 124 class with Dr. Noyes, but Snape really worked with me until I could put it together. I did feel like he really played favorites in his class; there was this guy named Harry that he just kept obsessing over, and if I asked a question he would just hit me over the head with my textbook. \\r\\n\\r\\nAll in all, he's a great professor; pretty hard and kind of a weird dude, but you really learn a lot in his class.\",\n",
       " '\\n',\n",
       " '\\n',\n",
       " '\\n',\n",
       " '\\nSophomore',\n",
       " '\\nB',\n",
       " '\\nRequired (Major)',\n",
       " '\\nMay 2016',\n",
       " '\\n',\n",
       " '\\n',\n",
       " \"\\nI really wanted to get him for defense against the dark arts, but apparently he is only teaching Chem this quarter. He may seem like a hard ass, but he is a good guy. Don't listen to what everyone else says. You will be glad you took his class. Learned a lot l, but it wasn't easy. \",\n",
       " '\\n',\n",
       " '\\n',\n",
       " 'CHEM 129',\n",
       " '\\n',\n",
       " '\\n',\n",
       " '\\nFreshman',\n",
       " '\\nC',\n",
       " '\\nRequired (Support)',\n",
       " '\\nJun 2015',\n",
       " '\\n',\n",
       " '\\n',\n",
       " '\\nProf. Snape knows his chemistry, but seems perpetually pissed off. Really hated this Harry kid. Rumors he used to be in a gang and wanted to teach law enforcement but got stuck here instead. Class was really hard, thought I failed my final but somehow came outwith a C, so at least he curves.',\n",
       " '\\n',\n",
       " '\\n',\n",
       " 'CHEM 202',\n",
       " '\\n',\n",
       " '\\n',\n",
       " '\\nSophomore',\n",
       " '\\nA',\n",
       " '\\nGeneral Ed',\n",
       " '\\nJan 2018',\n",
       " '\\n',\n",
       " '\\n',\n",
       " \"\\nProfessor Snape is a fantastic professor. Barely tried in this class and still got an A. Plus he understands that fame isnt everything and just because you vanquished the Dark Lord as a fetus doesnt mean you should get any special treatment or whatever. \\r\\n\\r\\nHe's also my academic advisor and honestly he has been an enormous help, always asking what im up to and offering to kill Professor Dumbledore for me if it comes to that. Mad respect, even took a vow with my mum to help me if i need anything.\\r\\n\\r\\n \\r\\n\\r\\n\",\n",
       " '\\n',\n",
       " '\\n',\n",
       " 'CHEM 211',\n",
       " '\\n',\n",
       " '\\n',\n",
       " '\\nFreshman',\n",
       " '\\nB',\n",
       " '\\nGeneral Ed',\n",
       " '\\nMar 2014',\n",
       " '\\n',\n",
       " '\\n',\n",
       " '\\nHe can teach you how to bewitch the mind, and ensnare the senses. He can tell you how to brew glory, bottle fame, and even put a stopper in death.\\r\\n',\n",
       " '\\n',\n",
       " '\\n',\n",
       " 'CHEM 216',\n",
       " '\\n',\n",
       " '\\n',\n",
       " '\\nSophomore',\n",
       " '\\nB',\n",
       " '\\nRequired (Major)',\n",
       " '\\nJan 2016',\n",
       " '\\n',\n",
       " '\\n',\n",
       " '\\nI miss him. Always.',\n",
       " '\\n',\n",
       " '\\n',\n",
       " 'CHEM 242',\n",
       " '\\n',\n",
       " '\\n',\n",
       " '\\nSophomore',\n",
       " '\\nD',\n",
       " '\\nGeneral Ed',\n",
       " '\\nJan 2016',\n",
       " '\\n',\n",
       " '\\n',\n",
       " \"\\nProfessor Snape really knows his stuff. At first he seemed intimidating and I always felt like he was out to get me but he turned out to be one of the best professors I've ever had. I'm planning on even naming my kid after him. I guess we'll just have to wait and see.\\r\\n\",\n",
       " '\\n',\n",
       " '\\n',\n",
       " 'CHEM 394',\n",
       " '\\n',\n",
       " '\\n',\n",
       " '\\nFreshman',\n",
       " '\\nN/A',\n",
       " '\\nRequired (Major)',\n",
       " '\\nFeb 2014',\n",
       " '\\n',\n",
       " '\\n',\n",
       " '\\nAt first he was really scary and intimidating. I had an itching feeling that he worked for the dark one. Like this one time, I was talking to a snake, and he gave me this look like \"WTF SMH.\" And then I was like oh shit. I was at metro and shit and there were like candles floating everywhere. And he creeped me out because he keeped telling me I had my mother\\'s eyes. Like wtf. And then he like totally killed Dumbledore, and I was like, \"wtf, I trusted you.\" Anyways, I named my son after him, so all in all, he\\'s pretty chill. Unfortunately he got killed by some snake thing. That kinda sucked. Anyways, highly recommend.',\n",
       " '\\n',\n",
       " '\\n']"
      ]
     },
     "execution_count": 7,
     "metadata": {},
     "output_type": "execute_result"
    }
   ],
   "source": [
    "snape_data"
   ]
  },
  {
   "cell_type": "code",
   "execution_count": 29,
   "metadata": {},
   "outputs": [
    {
     "name": "stdout",
     "output_type": "stream",
     "text": [
      "CHEM 110\n",
      "CHEM 110\n",
      "CHEM 124\n",
      "CHEM 125\n",
      "CHEM 129\n",
      "CHEM 202\n",
      "CHEM 211\n",
      "CHEM 216\n",
      "CHEM 242\n",
      "CHEM 394\n"
     ]
    }
   ],
   "source": [
    "# classes taught\n",
    "\n",
    "def get_classes(data):\n",
    "    \n",
    "    classes = []\n",
    "    i= 133; \n",
    "    \n",
    "    first_class = data[133]\n",
    "    classes.append(first_class)\n",
    "    next_class = snape_data[137]\n",
    "    \n",
    "    while(next_class != '\\n'):\n",
    "        print(next_class)\n",
    "        classes.append(next_class)\n",
    "        i += 4\n",
    "        next_class = snape_data[i]\n",
    "        \n",
    "    return(classes, i + 3)\n",
    "\n",
    "(class_list, next_index) = get_classes(snape_data)"
   ]
  },
  {
   "cell_type": "code",
   "execution_count": 28,
   "metadata": {},
   "outputs": [
    {
     "name": "stdout",
     "output_type": "stream",
     "text": [
      "CHEM 110\n"
     ]
    },
    {
     "data": {
      "text/plain": [
       "(['CHEM 101', 'CHEM 110'], 137)"
      ]
     },
     "execution_count": 28,
     "metadata": {},
     "output_type": "execute_result"
    }
   ],
   "source": [
    "get_classes(snape_data)"
   ]
  },
  {
   "cell_type": "code",
   "execution_count": 12,
   "metadata": {},
   "outputs": [
    {
     "data": {
      "text/plain": [
       "133"
      ]
     },
     "execution_count": 12,
     "metadata": {},
     "output_type": "execute_result"
    }
   ],
   "source": [
    "snape_data.index(\"CHEM 101\")"
   ]
  },
  {
   "cell_type": "code",
   "execution_count": 24,
   "metadata": {},
   "outputs": [
    {
     "data": {
      "text/plain": [
       "133"
      ]
     },
     "execution_count": 24,
     "metadata": {},
     "output_type": "execute_result"
    }
   ],
   "source": [
    "snape_data.index(\"CHEM 101\")"
   ]
  },
  {
   "cell_type": "code",
   "execution_count": 17,
   "metadata": {},
   "outputs": [
    {
     "data": {
      "text/plain": [
       "'CHEM 101'"
      ]
     },
     "execution_count": 17,
     "metadata": {},
     "output_type": "execute_result"
    }
   ],
   "source": [
    "snape_data[133]"
   ]
  },
  {
   "cell_type": "code",
   "execution_count": 359,
   "metadata": {},
   "outputs": [],
   "source": [
    "# collect the review information here\n",
    "import pandas as pd\n",
    "\n",
    "standings = [\"Freshman\", \"Sophomore\", \"Junior\", \"Senior\", \"5th/6th Year Senior\", \"Grad Student\"]\n",
    "\n",
    "def get_reviews(snape_data, review_index):\n",
    "    \n",
    "    reviews = { 'teacher_name': [], 'teacher_field': [], 'teacher_rating': [], 'teacher_difficulties': [], 'teacher_presentaion': [],\n",
    "               'student_class': [], 'student_standing': [], 'student_grade': [], 'student_major': [], \n",
    "               'review_month': [], 'review_year': [], 'review_content': [] }\n",
    "    \n",
    "    while(review_index < len(snape_data)):\n",
    "        \n",
    "        # class information\n",
    "        if(snape_data[review_index] in class_list):\n",
    "            reviews[\"student_class\"].append(snape_data[review_index])\n",
    "            review_index += 3\n",
    "        else:\n",
    "            reviews[\"student_class\"].append(reviews[\"student_class\"][-1])\n",
    "        \n",
    "        # teacher information\n",
    "        reviews[\"teacher_name\"].append(snape_data[104])\n",
    "        reviews[\"teacher_field\"].append(snape_data[110])\n",
    "        reviews[\"teacher_rating\"].append(float(snape_data[111].split()[-1][0:4]))\n",
    "        reviews[\"teacher_difficulties\"].append(float(snape_data[113].split()[-1])) # recognizes student difficulties\n",
    "        reviews[\"teacher_presentaion\"].append(float(snape_data[114].split()[-1]))  \n",
    "        \n",
    "        # student information\n",
    "        reviews[\"student_standing\"].append(snape_data[review_index].replace(\"\\n\", ''))\n",
    "        reviews[\"student_grade\"].append(snape_data[review_index + 1].replace(\"\\n\", ''))\n",
    "        reviews[\"student_major\"].append(snape_data[review_index + 2].replace(\"\\n\", ''))\n",
    "        \n",
    "        # review information\n",
    "        time = snape_data[review_index + 3].replace(\"\\n\", '').split()\n",
    "        reviews[\"review_month\"].append(time[0])\n",
    "        reviews[\"review_year\"].append(time[1])\n",
    "        \n",
    "        review_index += 6 # offset to the beginning of the review\n",
    "\n",
    "        review = \"\"       # default review is blank to account for empty reviews\n",
    "        \n",
    "        review_append = snape_data[review_index].replace(\"\\n\",'')\n",
    "\n",
    "        while((review_append not in class_list) and (review_append not in standings)):    #reviews are deliminated by class name\n",
    "            \n",
    "            if(review_append != \"\"):\n",
    "                review = review + review_append\n",
    "                \n",
    "            review_index += 1\n",
    "            \n",
    "            if(review_index == (len(snape_data) - 1)):\n",
    "                reviews[\"review_content\"].append(review)\n",
    "                return pd.DataFrame(data = reviews)\n",
    "            \n",
    "            review_append = snape_data[review_index].replace(\"\\n\",'')\n",
    "\n",
    "        reviews[\"review_content\"].append(review)"
   ]
  },
  {
   "cell_type": "code",
   "execution_count": 360,
   "metadata": {},
   "outputs": [],
   "source": [
    "reviews = get_reviews(snape_data, next_index)"
   ]
  },
  {
   "cell_type": "code",
   "execution_count": 220,
   "metadata": {},
   "outputs": [
    {
     "data": {
      "text/plain": [
       "'\\nFreshman'"
      ]
     },
     "execution_count": 220,
     "metadata": {},
     "output_type": "execute_result"
    }
   ],
   "source": [
    "yeet = reviews[\"year\"][0]\n",
    "yeet"
   ]
  },
  {
   "cell_type": "code",
   "execution_count": 221,
   "metadata": {},
   "outputs": [
    {
     "data": {
      "text/plain": [
       "'Freshman'"
      ]
     },
     "execution_count": 221,
     "metadata": {},
     "output_type": "execute_result"
    }
   ],
   "source": [
    "yeet.replace(\"\\n\", '')"
   ]
  },
  {
   "cell_type": "code",
   "execution_count": 164,
   "metadata": {},
   "outputs": [
    {
     "data": {
      "text/plain": [
       "['HTML PUBLIC \"-//W3C//DTD HTML 4.01 Transitional//EN\" \"http://www.w3.org/TR/html4/loose.dtd\"',\n",
       " 'Polyratings.com',\n",
       " ' Mobile Friendly Meta ',\n",
       " '\\n',\n",
       " '\\n',\n",
       " ' jQuery Include ',\n",
       " '\\n',\n",
       " '\\n',\n",
       " ' Bootstrap Includes ',\n",
       " '\\n',\n",
       " '\\n',\n",
       " '\\n',\n",
       " '\\n',\n",
       " ' Google Analytics ',\n",
       " '\\n',\n",
       " \"\\n\\n     var _gaq = _gaq || [];\\n     _gaq.push(['_setAccount', 'UA-20808156-1']);\\n     _gaq.push(['_setDomainName', '.polyratings.com']);\\n     _gaq.push(['_trackPageview']);\\n\\n     (function() {\\n       var ga = document.createElement('script'); ga.type = 'text/javascript'; ga.async = true;\\n       ga.src = ('https:' == document.location.protocol ? 'https://ssl' : 'http://www') + '.google-analytics.com/ga.js';\\n       var s = document.getElementsByTagName('script')[0]; s.parentNode.insertBefore(ga, s);\\n     })();\\n   \",\n",
       " '\\n',\n",
       " '\\n',\n",
       " '\\n',\n",
       " 'static test 3',\n",
       " '\\n',\n",
       " '\\n',\n",
       " '\\n',\n",
       " '\\n',\n",
       " ' nav toggle',\n",
       " '\\n',\n",
       " '\\n',\n",
       " 'Toggle navigation',\n",
       " '\\n',\n",
       " '\\n',\n",
       " '\\n',\n",
       " '\\n',\n",
       " '\\n',\n",
       " ' logo',\n",
       " '\\n',\n",
       " '\\n',\n",
       " '\\n',\n",
       " '\\n',\n",
       " '\\n',\n",
       " '\\n',\n",
       " '\\n',\n",
       " ' content of navigation bar',\n",
       " '\\n',\n",
       " '\\n',\n",
       " '\\n',\n",
       " '\\n',\n",
       " ' search box ',\n",
       " '\\n',\n",
       " '\\n',\n",
       " ' types of searches',\n",
       " '\\n',\n",
       " '\\n',\n",
       " 'Instructor',\n",
       " '\\n',\n",
       " 'Class',\n",
       " '\\n',\n",
       " 'Department',\n",
       " '\\n',\n",
       " 'Keyword',\n",
       " '\\n',\n",
       " '\\n',\n",
       " ' for both keyword and professor ',\n",
       " '\\n',\n",
       " '\\n',\n",
       " '\\n',\n",
       " '\\n',\n",
       " '\\n                      \\xa0 ',\n",
       " ' This nbsp is necessary due to the button being misaligned fixed in later versions of bootstrap https://github.com/twbs/bootstrap/issues/10482',\n",
       " '\\n',\n",
       " '\\n',\n",
       " '\\n',\n",
       " '\\n',\n",
       " 'input group',\n",
       " '\\n',\n",
       " ' need input for specific class',\n",
       " '\\n',\n",
       " '\\n',\n",
       " ' toplevel links ',\n",
       " '\\n',\n",
       " '\\n',\n",
       " 'Professor List',\n",
       " '\\n',\n",
       " 'Evaluate a Professor',\n",
       " '\\n',\n",
       " 'Contact Us',\n",
       " '\\n',\n",
       " '\\n',\n",
       " '\\n                  \\xa0',\n",
       " '\\n',\n",
       " '\\n',\n",
       " 'About Us',\n",
       " '\\n',\n",
       " 'FAQ',\n",
       " '\\n',\n",
       " '\\n',\n",
       " '\\n',\n",
       " '\\n',\n",
       " '\\n',\n",
       " '\\n',\n",
       " '\\n',\n",
       " ' close container',\n",
       " '\\n',\n",
       " '\\n',\n",
       " '\\n',\n",
       " 'Snape, Severus',\n",
       " '\\xa0\\xa0',\n",
       " '\\n',\n",
       " '\\n',\n",
       " '\\n',\n",
       " '\\n',\n",
       " '  Chemistry and Biochemistry',\n",
       " '3.17/4.00',\n",
       " '12 evaluations',\n",
       " 'Recognizes Student Difficulties: 2.33',\n",
       " 'Presents Material Clearly: 3.33',\n",
       " '3.17/4.00',\n",
       " '12 evaluations',\n",
       " ' ',\n",
       " 'Evaluate Professor',\n",
       " '\\n',\n",
       " '\\n    $(document).ready(function() {\\n      //scroll to sections instead of jumping\\n      $(\"nav #sidebar li a[href^=\\'#\\']\").on(\\'click\\', function(e) {\\n         e.preventDefault();\\n         var tmpHash = this.hash;\\n\\n         //animate the scrolling to a certain section\\n         $(\\'html, body\\').animate({\\n             scrollTop: $(tmpHash).offset().top\\n           }, 500, function(){\\n     \\n             //add hash to url\\n             window.location.hash = tmpHash;\\n           });\\n\\n      });\\n\\n      $(\\'[data-toggle=\"tooltip\"]\\').tooltip(); \\n    });    \\n  ',\n",
       " '\\n',\n",
       " '\\n',\n",
       " '\\n',\n",
       " '\\n',\n",
       " '\\n',\n",
       " 'CHEM 101',\n",
       " '\\n',\n",
       " '\\n',\n",
       " '\\n',\n",
       " 'CHEM 110',\n",
       " '\\n',\n",
       " '\\n',\n",
       " '\\n',\n",
       " 'CHEM 124',\n",
       " '\\n',\n",
       " '\\n',\n",
       " '\\n',\n",
       " 'CHEM 125',\n",
       " '\\n',\n",
       " '\\n',\n",
       " '\\n',\n",
       " 'CHEM 129',\n",
       " '\\n',\n",
       " '\\n',\n",
       " '\\n',\n",
       " 'CHEM 202',\n",
       " '\\n',\n",
       " '\\n',\n",
       " '\\n',\n",
       " 'CHEM 211',\n",
       " '\\n',\n",
       " '\\n',\n",
       " '\\n',\n",
       " 'CHEM 216',\n",
       " '\\n',\n",
       " '\\n',\n",
       " '\\n',\n",
       " 'CHEM 242',\n",
       " '\\n',\n",
       " '\\n',\n",
       " '\\n',\n",
       " 'CHEM 394',\n",
       " '\\n',\n",
       " '\\n',\n",
       " '\\n',\n",
       " '\\n',\n",
       " '\\n',\n",
       " '\\n',\n",
       " 'CHEM 101',\n",
       " '\\n',\n",
       " '\\n',\n",
       " '\\nFreshman',\n",
       " '\\nB',\n",
       " '\\nGeneral Ed',\n",
       " '\\nMay 2014',\n",
       " '\\n',\n",
       " '\\n',\n",
       " '\\nSnape, Snape, Severus Snape.',\n",
       " '\\n',\n",
       " '\\n',\n",
       " 'CHEM 110',\n",
       " '\\n',\n",
       " '\\n',\n",
       " '\\nFreshman',\n",
       " '\\nA',\n",
       " '\\nElective',\n",
       " '\\nMar 2014',\n",
       " '\\n',\n",
       " '\\n',\n",
       " \"\\nThis professor is the most amazing teacher in this joint. He really knows where the right blood lies and treats his students accordingly. If you're a mudblood, watch out. He does not take crap from any blood traders either so make sure you know your place. Overall a shining example of a professor. Kudos.\",\n",
       " '\\n',\n",
       " '\\n',\n",
       " 'CHEM 124',\n",
       " '\\n',\n",
       " '\\n',\n",
       " '\\nFreshman',\n",
       " '\\nD',\n",
       " '\\nRequired (Major)',\n",
       " '\\nMay 2015',\n",
       " '\\n',\n",
       " '\\n',\n",
       " \"\\nI tried really hard in his class but he seemed to really hate me for some reason. I tried going to office hours but he's really intimidating and to be honest he's what the boggart turns into when it sees me. I read on YikYak that he killed our old President Dumbledore. Overall, he's really scary but he really seems to know his stuff. \",\n",
       " '\\n',\n",
       " '\\n',\n",
       " '\\n',\n",
       " '\\nFreshman',\n",
       " '\\nC',\n",
       " '\\nRequired (Support)',\n",
       " '\\nJan 2018',\n",
       " '\\n',\n",
       " '\\n',\n",
       " \"\\nVery cramped handwriting, difficult to read on the blackboard. Classroom was dimly lit and he was very hard to pay attention to. Definitely picked favorites and would snap at people who weren't good at chem.  You could tell he hated his job. He got like a quarter of his students through finals though so he must have taught some of them\",\n",
       " '\\n',\n",
       " '\\n',\n",
       " 'CHEM 125',\n",
       " '\\n',\n",
       " '\\n',\n",
       " '\\nSophomore',\n",
       " '\\nC',\n",
       " '\\nElective',\n",
       " '\\nJan 2015',\n",
       " '\\n',\n",
       " '\\n',\n",
       " \"\\nComing in to the class I had heard some things about Snape; he grades hard, he gives long homework assignments, he's a death eater, etc., and I was pretty intimidated. While it is true that he is a hard professor, I've learned more in his class than any other chemistry class before. His teaching style is very unorthodox; most students were working on balancing equations and entropy while we were studying Polyjuice Potion. However, it all works in the end. I'd really struggled to make a liquid luck in my CHEM 124 class with Dr. Noyes, but Snape really worked with me until I could put it together. I did feel like he really played favorites in his class; there was this guy named Harry that he just kept obsessing over, and if I asked a question he would just hit me over the head with my textbook. \\r\\n\\r\\nAll in all, he's a great professor; pretty hard and kind of a weird dude, but you really learn a lot in his class.\",\n",
       " '\\n',\n",
       " '\\n',\n",
       " '\\n',\n",
       " '\\nSophomore',\n",
       " '\\nB',\n",
       " '\\nRequired (Major)',\n",
       " '\\nMay 2016',\n",
       " '\\n',\n",
       " '\\n',\n",
       " \"\\nI really wanted to get him for defense against the dark arts, but apparently he is only teaching Chem this quarter. He may seem like a hard ass, but he is a good guy. Don't listen to what everyone else says. You will be glad you took his class. Learned a lot l, but it wasn't easy. \",\n",
       " '\\n',\n",
       " '\\n',\n",
       " 'CHEM 129',\n",
       " '\\n',\n",
       " '\\n',\n",
       " '\\nFreshman',\n",
       " '\\nC',\n",
       " '\\nRequired (Support)',\n",
       " '\\nJun 2015',\n",
       " '\\n',\n",
       " '\\n',\n",
       " '\\nProf. Snape knows his chemistry, but seems perpetually pissed off. Really hated this Harry kid. Rumors he used to be in a gang and wanted to teach law enforcement but got stuck here instead. Class was really hard, thought I failed my final but somehow came outwith a C, so at least he curves.',\n",
       " '\\n',\n",
       " '\\n',\n",
       " 'CHEM 202',\n",
       " '\\n',\n",
       " '\\n',\n",
       " '\\nSophomore',\n",
       " '\\nA',\n",
       " '\\nGeneral Ed',\n",
       " '\\nJan 2018',\n",
       " '\\n',\n",
       " '\\n',\n",
       " \"\\nProfessor Snape is a fantastic professor. Barely tried in this class and still got an A. Plus he understands that fame isnt everything and just because you vanquished the Dark Lord as a fetus doesnt mean you should get any special treatment or whatever. \\r\\n\\r\\nHe's also my academic advisor and honestly he has been an enormous help, always asking what im up to and offering to kill Professor Dumbledore for me if it comes to that. Mad respect, even took a vow with my mum to help me if i need anything.\\r\\n\\r\\n \\r\\n\\r\\n\",\n",
       " '\\n',\n",
       " '\\n',\n",
       " 'CHEM 211',\n",
       " '\\n',\n",
       " '\\n',\n",
       " '\\nFreshman',\n",
       " '\\nB',\n",
       " '\\nGeneral Ed',\n",
       " '\\nMar 2014',\n",
       " '\\n',\n",
       " '\\n',\n",
       " '\\nHe can teach you how to bewitch the mind, and ensnare the senses. He can tell you how to brew glory, bottle fame, and even put a stopper in death.\\r\\n',\n",
       " '\\n',\n",
       " '\\n',\n",
       " 'CHEM 216',\n",
       " '\\n',\n",
       " '\\n',\n",
       " '\\nSophomore',\n",
       " '\\nB',\n",
       " '\\nRequired (Major)',\n",
       " '\\nJan 2016',\n",
       " '\\n',\n",
       " '\\n',\n",
       " '\\nI miss him. Always.',\n",
       " '\\n',\n",
       " '\\n',\n",
       " 'CHEM 242',\n",
       " '\\n',\n",
       " '\\n',\n",
       " '\\nSophomore',\n",
       " '\\nD',\n",
       " '\\nGeneral Ed',\n",
       " '\\nJan 2016',\n",
       " '\\n',\n",
       " '\\n',\n",
       " \"\\nProfessor Snape really knows his stuff. At first he seemed intimidating and I always felt like he was out to get me but he turned out to be one of the best professors I've ever had. I'm planning on even naming my kid after him. I guess we'll just have to wait and see.\\r\\n\",\n",
       " '\\n',\n",
       " '\\n',\n",
       " 'CHEM 394',\n",
       " '\\n',\n",
       " '\\n',\n",
       " '\\nFreshman',\n",
       " '\\nN/A',\n",
       " '\\nRequired (Major)',\n",
       " '\\nFeb 2014',\n",
       " '\\n',\n",
       " '\\n',\n",
       " '\\nAt first he was really scary and intimidating. I had an itching feeling that he worked for the dark one. Like this one time, I was talking to a snake, and he gave me this look like \"WTF SMH.\" And then I was like oh shit. I was at metro and shit and there were like candles floating everywhere. And he creeped me out because he keeped telling me I had my mother\\'s eyes. Like wtf. And then he like totally killed Dumbledore, and I was like, \"wtf, I trusted you.\" Anyways, I named my son after him, so all in all, he\\'s pretty chill. Unfortunately he got killed by some snake thing. That kinda sucked. Anyways, highly recommend.',\n",
       " '\\n',\n",
       " '\\n']"
      ]
     },
     "execution_count": 164,
     "metadata": {},
     "output_type": "execute_result"
    }
   ],
   "source": [
    "snape_data"
   ]
  },
  {
   "cell_type": "code",
   "execution_count": 165,
   "metadata": {},
   "outputs": [
    {
     "data": {
      "text/plain": [
       "{'class': ['CHEM 101',\n",
       "  'CHEM 110',\n",
       "  'CHEM 124',\n",
       "  'CHEM 125',\n",
       "  'CHEM 129',\n",
       "  'CHEM 202',\n",
       "  'CHEM 211',\n",
       "  'CHEM 216',\n",
       "  'CHEM 242',\n",
       "  'CHEM 394'],\n",
       " 'year': ['\\nFreshman',\n",
       "  '\\nFreshman',\n",
       "  '\\nFreshman',\n",
       "  '\\nSophomore',\n",
       "  '\\nFreshman',\n",
       "  '\\nSophomore',\n",
       "  '\\nFreshman',\n",
       "  '\\nSophomore',\n",
       "  '\\nSophomore',\n",
       "  '\\nFreshman'],\n",
       " 'grade': ['\\nB',\n",
       "  '\\nA',\n",
       "  '\\nD',\n",
       "  '\\nC',\n",
       "  '\\nC',\n",
       "  '\\nA',\n",
       "  '\\nB',\n",
       "  '\\nB',\n",
       "  '\\nD',\n",
       "  '\\nN/A'],\n",
       " 'major': ['\\nGeneral Ed',\n",
       "  '\\nElective',\n",
       "  '\\nRequired (Major)',\n",
       "  '\\nElective',\n",
       "  '\\nRequired (Support)',\n",
       "  '\\nGeneral Ed',\n",
       "  '\\nGeneral Ed',\n",
       "  '\\nRequired (Major)',\n",
       "  '\\nGeneral Ed',\n",
       "  '\\nRequired (Major)'],\n",
       " 'time': ['\\nMay 2014',\n",
       "  '\\nMar 2014',\n",
       "  '\\nMay 2015',\n",
       "  '\\nJan 2015',\n",
       "  '\\nJun 2015',\n",
       "  '\\nJan 2018',\n",
       "  '\\nMar 2014',\n",
       "  '\\nJan 2016',\n",
       "  '\\nJan 2016',\n",
       "  '\\nFeb 2014'],\n",
       " 'review': ['\\nSnape, Snape, Severus Snape.',\n",
       "  \"\\nThis professor is the most amazing teacher in this joint. He really knows where the right blood lies and treats his students accordingly. If you're a mudblood, watch out. He does not take crap from any blood traders either so make sure you know your place. Overall a shining example of a professor. Kudos.\",\n",
       "  \"\\nI tried really hard in his class but he seemed to really hate me for some reason. I tried going to office hours but he's really intimidating and to be honest he's what the boggart turns into when it sees me. I read on YikYak that he killed our old President Dumbledore. Overall, he's really scary but he really seems to know his stuff. \\nFreshman\\nC\\nRequired (Support)\\nJan 2018\\nVery cramped handwriting, difficult to read on the blackboard. Classroom was dimly lit and he was very hard to pay attention to. Definitely picked favorites and would snap at people who weren't good at chem.  You could tell he hated his job. He got like a quarter of his students through finals though so he must have taught some of them\",\n",
       "  \"\\nComing in to the class I had heard some things about Snape; he grades hard, he gives long homework assignments, he's a death eater, etc., and I was pretty intimidated. While it is true that he is a hard professor, I've learned more in his class than any other chemistry class before. His teaching style is very unorthodox; most students were working on balancing equations and entropy while we were studying Polyjuice Potion. However, it all works in the end. I'd really struggled to make a liquid luck in my CHEM 124 class with Dr. Noyes, but Snape really worked with me until I could put it together. I did feel like he really played favorites in his class; there was this guy named Harry that he just kept obsessing over, and if I asked a question he would just hit me over the head with my textbook. \\r\\n\\r\\nAll in all, he's a great professor; pretty hard and kind of a weird dude, but you really learn a lot in his class.\\nSophomore\\nB\\nRequired (Major)\\nMay 2016\\nI really wanted to get him for defense against the dark arts, but apparently he is only teaching Chem this quarter. He may seem like a hard ass, but he is a good guy. Don't listen to what everyone else says. You will be glad you took his class. Learned a lot l, but it wasn't easy. \",\n",
       "  '\\nProf. Snape knows his chemistry, but seems perpetually pissed off. Really hated this Harry kid. Rumors he used to be in a gang and wanted to teach law enforcement but got stuck here instead. Class was really hard, thought I failed my final but somehow came outwith a C, so at least he curves.',\n",
       "  \"\\nProfessor Snape is a fantastic professor. Barely tried in this class and still got an A. Plus he understands that fame isnt everything and just because you vanquished the Dark Lord as a fetus doesnt mean you should get any special treatment or whatever. \\r\\n\\r\\nHe's also my academic advisor and honestly he has been an enormous help, always asking what im up to and offering to kill Professor Dumbledore for me if it comes to that. Mad respect, even took a vow with my mum to help me if i need anything.\\r\\n\\r\\n \\r\\n\\r\\n\",\n",
       "  '\\nHe can teach you how to bewitch the mind, and ensnare the senses. He can tell you how to brew glory, bottle fame, and even put a stopper in death.\\r\\n',\n",
       "  '\\nI miss him. Always.',\n",
       "  \"\\nProfessor Snape really knows his stuff. At first he seemed intimidating and I always felt like he was out to get me but he turned out to be one of the best professors I've ever had. I'm planning on even naming my kid after him. I guess we'll just have to wait and see.\\r\\n\"]}"
      ]
     },
     "execution_count": 165,
     "metadata": {},
     "output_type": "execute_result"
    }
   ],
   "source": [
    "reviews"
   ]
  },
  {
   "cell_type": "code",
   "execution_count": 138,
   "metadata": {},
   "outputs": [
    {
     "data": {
      "text/plain": [
       "'CHEM 110'"
      ]
     },
     "execution_count": 138,
     "metadata": {},
     "output_type": "execute_result"
    }
   ],
   "source": [
    "snape_data[review_index]"
   ]
  },
  {
   "cell_type": "code",
   "execution_count": 135,
   "metadata": {},
   "outputs": [
    {
     "data": {
      "text/plain": [
       "'\\nSnape, Snape, Severus Snape.'"
      ]
     },
     "execution_count": 135,
     "metadata": {},
     "output_type": "execute_result"
    }
   ],
   "source": [
    "review"
   ]
  },
  {
   "cell_type": "code",
   "execution_count": 115,
   "metadata": {},
   "outputs": [],
   "source": [
    "# collect review itself"
   ]
  },
  {
   "cell_type": "code",
   "execution_count": 109,
   "metadata": {},
   "outputs": [
    {
     "data": {
      "text/plain": [
       "'\\nMay 2014'"
      ]
     },
     "execution_count": 109,
     "metadata": {},
     "output_type": "execute_result"
    }
   ],
   "source": [
    "rev_time"
   ]
  },
  {
   "cell_type": "code",
   "execution_count": 96,
   "metadata": {},
   "outputs": [
    {
     "data": {
      "text/plain": [
       "'\\n'"
      ]
     },
     "execution_count": 96,
     "metadata": {},
     "output_type": "execute_result"
    }
   ],
   "source": [
    "snape_data[review_index + 2]"
   ]
  },
  {
   "cell_type": "code",
   "execution_count": 69,
   "metadata": {},
   "outputs": [
    {
     "data": {
      "text/plain": [
       "'CHEM 110'"
      ]
     },
     "execution_count": 69,
     "metadata": {},
     "output_type": "execute_result"
    }
   ],
   "source": [
    "snape_data"
   ]
  },
  {
   "cell_type": "code",
   "execution_count": 5,
   "metadata": {},
   "outputs": [],
   "source": [
    "def get_classes(fp):\n",
    "    n_count = 0\n",
    "    for i in fp:\n",
    "        if(i != '\\n'):\n",
    "            print(i)"
   ]
  },
  {
   "cell_type": "code",
   "execution_count": 64,
   "metadata": {},
   "outputs": [
    {
     "data": {
      "text/plain": [
       "126"
      ]
     },
     "execution_count": 64,
     "metadata": {},
     "output_type": "execute_result"
    }
   ],
   "source": [
    "snape_data.index('CHEM 101')"
   ]
  },
  {
   "cell_type": "code",
   "execution_count": 62,
   "metadata": {},
   "outputs": [
    {
     "data": {
      "text/plain": [
       "['HTML PUBLIC \"-//W3C//DTD HTML 4.01 Transitional//EN\" \"http://www.w3.org/TR/html4/loose.dtd\"',\n",
       " 'Polyratings.com',\n",
       " ' Mobile Friendly Meta ',\n",
       " '\\n',\n",
       " '\\n',\n",
       " ' jQuery Include ',\n",
       " '\\n',\n",
       " '\\n',\n",
       " ' Bootstrap Includes ',\n",
       " '\\n',\n",
       " '\\n',\n",
       " '\\n',\n",
       " '\\n',\n",
       " ' Google Analytics ',\n",
       " '\\n',\n",
       " \"\\n\\n     var _gaq = _gaq || [];\\n     _gaq.push(['_setAccount', 'UA-20808156-1']);\\n     _gaq.push(['_setDomainName', '.polyratings.com']);\\n     _gaq.push(['_trackPageview']);\\n\\n     (function() {\\n       var ga = document.createElement('script'); ga.type = 'text/javascript'; ga.async = true;\\n       ga.src = ('https:' == document.location.protocol ? 'https://ssl' : 'http://www') + '.google-analytics.com/ga.js';\\n       var s = document.getElementsByTagName('script')[0]; s.parentNode.insertBefore(ga, s);\\n     })();\\n   \",\n",
       " '\\n',\n",
       " '\\n',\n",
       " '\\n',\n",
       " 'static test 3',\n",
       " '\\n',\n",
       " '\\n',\n",
       " '\\n',\n",
       " '\\n',\n",
       " ' nav toggle',\n",
       " '\\n',\n",
       " '\\n',\n",
       " 'Toggle navigation',\n",
       " '\\n',\n",
       " '\\n',\n",
       " '\\n',\n",
       " '\\n',\n",
       " '\\n',\n",
       " ' logo',\n",
       " '\\n',\n",
       " '\\n',\n",
       " '\\n',\n",
       " '\\n',\n",
       " '\\n',\n",
       " '\\n',\n",
       " '\\n',\n",
       " ' content of navigation bar',\n",
       " '\\n',\n",
       " '\\n',\n",
       " '\\n',\n",
       " '\\n',\n",
       " ' search box ',\n",
       " '\\n',\n",
       " '\\n',\n",
       " ' types of searches',\n",
       " '\\n',\n",
       " '\\n',\n",
       " 'Instructor',\n",
       " '\\n',\n",
       " 'Class',\n",
       " '\\n',\n",
       " 'Department',\n",
       " '\\n',\n",
       " 'Keyword',\n",
       " '\\n',\n",
       " '\\n',\n",
       " ' for both keyword and professor ',\n",
       " '\\n',\n",
       " '\\n',\n",
       " '\\n',\n",
       " '\\n',\n",
       " '\\n                      \\xa0 ',\n",
       " ' This nbsp is necessary due to the button being misaligned fixed in later versions of bootstrap https://github.com/twbs/bootstrap/issues/10482',\n",
       " '\\n',\n",
       " '\\n',\n",
       " '\\n',\n",
       " '\\n',\n",
       " 'input group',\n",
       " '\\n',\n",
       " ' need input for specific class',\n",
       " '\\n',\n",
       " '\\n',\n",
       " ' toplevel links ',\n",
       " '\\n',\n",
       " '\\n',\n",
       " 'Professor List',\n",
       " '\\n',\n",
       " 'Evaluate a Professor',\n",
       " '\\n',\n",
       " 'Contact Us',\n",
       " '\\n',\n",
       " '\\n',\n",
       " '\\n                  \\xa0',\n",
       " '\\n',\n",
       " '\\n',\n",
       " 'About Us',\n",
       " '\\n',\n",
       " 'FAQ',\n",
       " '\\n',\n",
       " '\\n',\n",
       " '\\n',\n",
       " '\\n',\n",
       " '\\n',\n",
       " '\\n',\n",
       " '\\n',\n",
       " ' close container',\n",
       " '\\n',\n",
       " '\\n',\n",
       " '\\n',\n",
       " 'Snape, Severus',\n",
       " '\\xa0\\xa0',\n",
       " '\\n',\n",
       " '\\n',\n",
       " '\\n',\n",
       " '\\n',\n",
       " '  Chemistry and Biochemistry',\n",
       " '3.17/4.00',\n",
       " '12 evaluations',\n",
       " 'Recognizes Student Difficulties: 2.33',\n",
       " 'Presents Material Clearly: 3.33',\n",
       " '3.17/4.00',\n",
       " '12 evaluations',\n",
       " ' ',\n",
       " 'Evaluate Professor',\n",
       " '\\n',\n",
       " '\\n    $(document).ready(function() {\\n      //scroll to sections instead of jumping\\n      $(\"nav #sidebar li a[href^=\\'#\\']\").on(\\'click\\', function(e) {\\n         e.preventDefault();\\n         var tmpHash = this.hash;\\n\\n         //animate the scrolling to a certain section\\n         $(\\'html, body\\').animate({\\n             scrollTop: $(tmpHash).offset().top\\n           }, 500, function(){\\n     \\n             //add hash to url\\n             window.location.hash = tmpHash;\\n           });\\n\\n      });\\n\\n      $(\\'[data-toggle=\"tooltip\"]\\').tooltip(); \\n    });    \\n  ',\n",
       " '\\n',\n",
       " '\\n',\n",
       " '\\n',\n",
       " '\\n',\n",
       " '\\n',\n",
       " 'CHEM 101',\n",
       " '\\n',\n",
       " '\\n',\n",
       " '\\n',\n",
       " 'CHEM 110',\n",
       " '\\n',\n",
       " '\\n',\n",
       " '\\n',\n",
       " 'CHEM 124',\n",
       " '\\n',\n",
       " '\\n',\n",
       " '\\n',\n",
       " 'CHEM 125',\n",
       " '\\n',\n",
       " '\\n',\n",
       " '\\n',\n",
       " 'CHEM 129',\n",
       " '\\n',\n",
       " '\\n',\n",
       " '\\n',\n",
       " 'CHEM 202',\n",
       " '\\n',\n",
       " '\\n',\n",
       " '\\n',\n",
       " 'CHEM 211',\n",
       " '\\n',\n",
       " '\\n',\n",
       " '\\n',\n",
       " 'CHEM 216',\n",
       " '\\n',\n",
       " '\\n',\n",
       " '\\n',\n",
       " 'CHEM 242',\n",
       " '\\n',\n",
       " '\\n',\n",
       " '\\n',\n",
       " 'CHEM 394',\n",
       " '\\n',\n",
       " '\\n',\n",
       " '\\n',\n",
       " '\\n',\n",
       " '\\n',\n",
       " '\\n',\n",
       " 'CHEM 101',\n",
       " '\\n',\n",
       " '\\n',\n",
       " '\\nFreshman',\n",
       " '\\nB',\n",
       " '\\nGeneral Ed',\n",
       " '\\nMay 2014',\n",
       " '\\n',\n",
       " '\\n',\n",
       " '\\nSnape, Snape, Severus Snape.',\n",
       " '\\n',\n",
       " '\\n',\n",
       " 'CHEM 110',\n",
       " '\\n',\n",
       " '\\n',\n",
       " '\\nFreshman',\n",
       " '\\nA',\n",
       " '\\nElective',\n",
       " '\\nMar 2014',\n",
       " '\\n',\n",
       " '\\n',\n",
       " \"\\nThis professor is the most amazing teacher in this joint. He really knows where the right blood lies and treats his students accordingly. If you're a mudblood, watch out. He does not take crap from any blood traders either so make sure you know your place. Overall a shining example of a professor. Kudos.\",\n",
       " '\\n',\n",
       " '\\n',\n",
       " 'CHEM 124',\n",
       " '\\n',\n",
       " '\\n',\n",
       " '\\nFreshman',\n",
       " '\\nD',\n",
       " '\\nRequired (Major)',\n",
       " '\\nMay 2015',\n",
       " '\\n',\n",
       " '\\n',\n",
       " \"\\nI tried really hard in his class but he seemed to really hate me for some reason. I tried going to office hours but he's really intimidating and to be honest he's what the boggart turns into when it sees me. I read on YikYak that he killed our old President Dumbledore. Overall, he's really scary but he really seems to know his stuff. \",\n",
       " '\\n',\n",
       " '\\n',\n",
       " '\\n',\n",
       " '\\nFreshman',\n",
       " '\\nC',\n",
       " '\\nRequired (Support)',\n",
       " '\\nJan 2018',\n",
       " '\\n',\n",
       " '\\n',\n",
       " \"\\nVery cramped handwriting, difficult to read on the blackboard. Classroom was dimly lit and he was very hard to pay attention to. Definitely picked favorites and would snap at people who weren't good at chem.  You could tell he hated his job. He got like a quarter of his students through finals though so he must have taught some of them\",\n",
       " '\\n',\n",
       " '\\n',\n",
       " 'CHEM 125',\n",
       " '\\n',\n",
       " '\\n',\n",
       " '\\nSophomore',\n",
       " '\\nC',\n",
       " '\\nElective',\n",
       " '\\nJan 2015',\n",
       " '\\n',\n",
       " '\\n',\n",
       " \"\\nComing in to the class I had heard some things about Snape; he grades hard, he gives long homework assignments, he's a death eater, etc., and I was pretty intimidated. While it is true that he is a hard professor, I've learned more in his class than any other chemistry class before. His teaching style is very unorthodox; most students were working on balancing equations and entropy while we were studying Polyjuice Potion. However, it all works in the end. I'd really struggled to make a liquid luck in my CHEM 124 class with Dr. Noyes, but Snape really worked with me until I could put it together. I did feel like he really played favorites in his class; there was this guy named Harry that he just kept obsessing over, and if I asked a question he would just hit me over the head with my textbook. \\r\\n\\r\\nAll in all, he's a great professor; pretty hard and kind of a weird dude, but you really learn a lot in his class.\",\n",
       " '\\n',\n",
       " '\\n',\n",
       " '\\n',\n",
       " '\\nSophomore',\n",
       " '\\nB',\n",
       " '\\nRequired (Major)',\n",
       " '\\nMay 2016',\n",
       " '\\n',\n",
       " '\\n',\n",
       " \"\\nI really wanted to get him for defense against the dark arts, but apparently he is only teaching Chem this quarter. He may seem like a hard ass, but he is a good guy. Don't listen to what everyone else says. You will be glad you took his class. Learned a lot l, but it wasn't easy. \",\n",
       " '\\n',\n",
       " '\\n',\n",
       " 'CHEM 129',\n",
       " '\\n',\n",
       " '\\n',\n",
       " '\\nFreshman',\n",
       " '\\nC',\n",
       " '\\nRequired (Support)',\n",
       " '\\nJun 2015',\n",
       " '\\n',\n",
       " '\\n',\n",
       " '\\nProf. Snape knows his chemistry, but seems perpetually pissed off. Really hated this Harry kid. Rumors he used to be in a gang and wanted to teach law enforcement but got stuck here instead. Class was really hard, thought I failed my final but somehow came outwith a C, so at least he curves.',\n",
       " '\\n',\n",
       " '\\n',\n",
       " 'CHEM 202',\n",
       " '\\n',\n",
       " '\\n',\n",
       " '\\nSophomore',\n",
       " '\\nA',\n",
       " '\\nGeneral Ed',\n",
       " '\\nJan 2018',\n",
       " '\\n',\n",
       " '\\n',\n",
       " \"\\nProfessor Snape is a fantastic professor. Barely tried in this class and still got an A. Plus he understands that fame isnt everything and just because you vanquished the Dark Lord as a fetus doesnt mean you should get any special treatment or whatever. \\r\\n\\r\\nHe's also my academic advisor and honestly he has been an enormous help, always asking what im up to and offering to kill Professor Dumbledore for me if it comes to that. Mad respect, even took a vow with my mum to help me if i need anything.\\r\\n\\r\\n \\r\\n\\r\\n\",\n",
       " '\\n',\n",
       " '\\n',\n",
       " 'CHEM 211',\n",
       " '\\n',\n",
       " '\\n',\n",
       " '\\nFreshman',\n",
       " '\\nB',\n",
       " '\\nGeneral Ed',\n",
       " '\\nMar 2014',\n",
       " '\\n',\n",
       " '\\n',\n",
       " '\\nHe can teach you how to bewitch the mind, and ensnare the senses. He can tell you how to brew glory, bottle fame, and even put a stopper in death.\\r\\n',\n",
       " '\\n',\n",
       " '\\n',\n",
       " 'CHEM 216',\n",
       " '\\n',\n",
       " '\\n',\n",
       " '\\nSophomore',\n",
       " '\\nB',\n",
       " '\\nRequired (Major)',\n",
       " '\\nJan 2016',\n",
       " '\\n',\n",
       " '\\n',\n",
       " '\\nI miss him. Always.',\n",
       " '\\n',\n",
       " '\\n',\n",
       " 'CHEM 242',\n",
       " '\\n',\n",
       " '\\n',\n",
       " '\\nSophomore',\n",
       " '\\nD',\n",
       " '\\nGeneral Ed',\n",
       " '\\nJan 2016',\n",
       " '\\n',\n",
       " '\\n',\n",
       " \"\\nProfessor Snape really knows his stuff. At first he seemed intimidating and I always felt like he was out to get me but he turned out to be one of the best professors I've ever had. I'm planning on even naming my kid after him. I guess we'll just have to wait and see.\\r\\n\",\n",
       " '\\n',\n",
       " '\\n',\n",
       " 'CHEM 394',\n",
       " '\\n',\n",
       " '\\n',\n",
       " '\\nFreshman',\n",
       " '\\nN/A',\n",
       " '\\nRequired (Major)',\n",
       " '\\nFeb 2014',\n",
       " '\\n',\n",
       " '\\n',\n",
       " '\\nAt first he was really scary and intimidating. I had an itching feeling that he worked for the dark one. Like this one time, I was talking to a snake, and he gave me this look like \"WTF SMH.\" And then I was like oh shit. I was at metro and shit and there were like candles floating everywhere. And he creeped me out because he keeped telling me I had my mother\\'s eyes. Like wtf. And then he like totally killed Dumbledore, and I was like, \"wtf, I trusted you.\" Anyways, I named my son after him, so all in all, he\\'s pretty chill. Unfortunately he got killed by some snake thing. That kinda sucked. Anyways, highly recommend.',\n",
       " '\\n',\n",
       " '\\n']"
      ]
     },
     "execution_count": 62,
     "metadata": {},
     "output_type": "execute_result"
    }
   ],
   "source": [
    "snape_data"
   ]
  },
  {
   "cell_type": "code",
   "execution_count": null,
   "metadata": {},
   "outputs": [],
   "source": []
  }
 ],
 "metadata": {
  "kernelspec": {
   "display_name": "Python 3",
   "language": "python",
   "name": "python3"
  },
  "language_info": {
   "codemirror_mode": {
    "name": "ipython",
    "version": 3
   },
   "file_extension": ".py",
   "mimetype": "text/x-python",
   "name": "python",
   "nbconvert_exporter": "python",
   "pygments_lexer": "ipython3",
   "version": "3.6.5"
  }
 },
 "nbformat": 4,
 "nbformat_minor": 2
}
